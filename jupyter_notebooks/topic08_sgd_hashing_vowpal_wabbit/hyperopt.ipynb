{
 "cells": [
  {
   "cell_type": "code",
   "execution_count": null,
   "metadata": {
    "collapsed": true
   },
   "outputs": [],
   "source": [
    "def hyperopt_objective(params):\n",
    "    !vw -d data/habr_train.vw \\\n",
    "    -l {params['l']} \\\n",
    "    --quiet\n",
    "    \n",
    "    !vw -i habr_model.vw -t \\\n",
    "    -d data/habr_valid.vw \\\n",
    "    -p habr_valid_pred.txt \\\n",
    "    --quiet\n",
    "    \n",
    "    with open('habr_valid_pred.txt') as pred_file:\n",
    "        valid_prediction = [float(popularity) for popularity in pred_file.readlines()]\n",
    "    score = mean_absolute_error(valid_vals, valid_prediction)\n",
    "    return score\n",
    "\n",
    "\n",
    "params_space = {\n",
    "    'l': hp.uniform('l', 0.2, 0.8), # default = 0.5\n",
    "}\n",
    "\n",
    "\n",
    "%%time\n",
    "trials = Trials()\n",
    "\n",
    "best_params = fmin(\n",
    "    hyperopt_objective,\n",
    "    space=params_space,\n",
    "    algo=tpe.suggest,\n",
    "    max_evals=200,\n",
    "    trials=trials\n",
    ")"
   ]
  }
 ],
 "metadata": {
  "kernelspec": {
   "display_name": "Python 3",
   "language": "python",
   "name": "python3"
  },
  "language_info": {
   "codemirror_mode": {
    "name": "ipython",
    "version": 3
   },
   "file_extension": ".py",
   "mimetype": "text/x-python",
   "name": "python",
   "nbconvert_exporter": "python",
   "pygments_lexer": "ipython3",
   "version": "3.6.1"
  }
 },
 "nbformat": 4,
 "nbformat_minor": 2
}
