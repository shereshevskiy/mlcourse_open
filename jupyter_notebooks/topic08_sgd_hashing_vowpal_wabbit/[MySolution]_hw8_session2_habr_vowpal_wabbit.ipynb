{
 "cells": [
  {
   "cell_type": "markdown",
   "metadata": {},
   "source": [
    "<center>\n",
    "<img src=\"../../img/ods_stickers.jpg\">\n",
    "## Открытый курс по машинному обучению. Сессия № 2\n",
    "</center>\n",
    "Автор материала: программист-исследователь Mail.ru Group, старший преподаватель Факультета Компьютерных Наук ВШЭ Юрий Кашницкий. Материал распространяется на условиях лицензии [Creative Commons CC BY-NC-SA 4.0](https://creativecommons.org/licenses/by-nc-sa/4.0/). Можно использовать в любых целях (редактировать, поправлять и брать за основу), кроме коммерческих, но с обязательным упоминанием автора материала."
   ]
  },
  {
   "cell_type": "markdown",
   "metadata": {},
   "source": [
    "# <center>Домашнее задание № 8\n",
    "## <center> Vowpal Wabbit в задаче прогнозирования популярности статьи на хабре"
   ]
  },
  {
   "cell_type": "markdown",
   "metadata": {},
   "source": [
    "В этом задании надо побить бенчмарк в [соревновании](https://www.kaggle.com/c/habr-num-bookmarks) на Kaggle Inclass. Как это делать – ограничений нет (кроме, конечно, ручной разметки), прочитать правила можно [тут](https://www.kaggle.com/c/habr-num-bookmarks/rules). Ниже описаны инструкции, как это сделать с Vowpal Wabbit.\n",
    "\n",
    "Дедлайн: 31 октября 23:59 UTC +3. Решение надо будет загрузить по [ссылке](https://www.dropbox.com/request/g5WOPrxwvcYwADZCuoY7). В этом соревновании нет задачи победить. Цель – побить бенчмарк и продвинуться в [соревновании](https://mlcourse.arktur.io) по прогнозу популярности статьи на Medium. "
   ]
  },
  {
   "cell_type": "code",
   "execution_count": 131,
   "metadata": {
    "collapsed": true
   },
   "outputs": [],
   "source": [
    "import numpy as np\n",
    "import pandas as pd\n",
    "import json\n",
    "from tqdm import tqdm_notebook\n",
    "from sklearn.metrics import mean_absolute_error\n",
    "from datetime import datetime"
   ]
  },
  {
   "cell_type": "code",
   "execution_count": 540,
   "metadata": {
    "collapsed": true
   },
   "outputs": [],
   "source": [
    "#!pip install hyperopt"
   ]
  },
  {
   "cell_type": "markdown",
   "metadata": {},
   "source": [
    "Посмотрим на одну из строчек в JSON-файле: считаем ее с помощью библиотеки json. Эта строчка соответствует [7-ой статье](https://habrahabr.ru/post/7/) на Хабре."
   ]
  },
  {
   "cell_type": "code",
   "execution_count": 31,
   "metadata": {
    "collapsed": true
   },
   "outputs": [],
   "source": [
    "!head -1 ../../../data/train.json > ../../../data/train1.json"
   ]
  },
  {
   "cell_type": "raw",
   "metadata": {},
   "source": [
    "# то же самое средствами python выглядело бы так:\n",
    "\n",
    "with open('../../../data/train.json') as train, \\\n",
    "     open('../../../data/train1.json', 'w') as train1:\n",
    "    train1.write(train.readline().strip())"
   ]
  },
  {
   "cell_type": "code",
   "execution_count": 347,
   "metadata": {},
   "outputs": [
    {
     "name": "stdout",
     "output_type": "stream",
     "text": [
      "Active code page: 65001\n"
     ]
    }
   ],
   "source": [
    "# активирует вывод консольных сообщений на английском (вместо крокозябл из кириллистических символов)\n",
    "!chcp 65001"
   ]
  },
  {
   "cell_type": "code",
   "execution_count": 80,
   "metadata": {
    "collapsed": true
   },
   "outputs": [],
   "source": [
    "with open('../../../data/train1.json', encoding='utf-8') as inp_json:\n",
    "    first_json = json.load(inp_json)"
   ]
  },
  {
   "cell_type": "code",
   "execution_count": 183,
   "metadata": {},
   "outputs": [
    {
     "data": {
      "text/plain": [
       "16"
      ]
     },
     "execution_count": 183,
     "metadata": {},
     "output_type": "execute_result"
    }
   ],
   "source": [
    "len(first_json)"
   ]
  },
  {
   "cell_type": "code",
   "execution_count": 81,
   "metadata": {
    "scrolled": true
   },
   "outputs": [
    {
     "data": {
      "text/plain": [
       "{'_id': 'https://habrahabr.ru/post/7/',\n",
       " '_timestamp': 1493192186.0903192,\n",
       " 'author': {'name': 'Павел Титов',\n",
       "  'nickname': '@ptitov',\n",
       "  'url': 'https://habrahabr.ru/users/ptitov'},\n",
       " 'content': 'У меня такое ощущение, что logout время от времени происходит самопроизвольно, несмотря на то, что чекбокс про логине включен.<br>\\r\\n<br>\\r\\nВозможно, это происходит при смене IP-адреса, но я не уверен.',\n",
       " 'domain': 'habrahabr.ru',\n",
       " 'flags': [],\n",
       " 'flow': None,\n",
       " 'hubs': [{'id': 'hub/habr',\n",
       "   'title': 'Хабрахабр',\n",
       "   'url': 'https://habrahabr.ru/hub/habr/'}],\n",
       " 'link_tags': {'alternate': 'https://habrahabr.ru/rss/post/7/',\n",
       "  'apple-touch-icon-precomposed': '/images/favicons/apple-touch-icon-152x152.png',\n",
       "  'canonical': 'https://habrahabr.ru/post/7/',\n",
       "  'icon': '/images/favicons/favicon-16x16.png',\n",
       "  'image_src': 'https://habrahabr.ru/i/habralogo.jpg',\n",
       "  'stylesheet': 'https://habracdn.net/habr/styles/1493134745/_build/global_main.css'},\n",
       " 'meta_tags': {'al:android:app_name': 'Habrahabr',\n",
       "  'al:android:package': 'ru.habrahabr',\n",
       "  'al:android:url': 'habrahabr://post/7',\n",
       "  'al:windows_phone:app_id': '460a6bd6-8955-470f-935e-9ea1726a6060',\n",
       "  'al:windows_phone:app_name': 'Habrahabr',\n",
       "  'al:windows_phone:url': 'habrahabr://post/7',\n",
       "  'apple-mobile-web-app-title': 'Хабрахабр',\n",
       "  'application-name': 'Хабрахабр',\n",
       "  'description': 'У меня такое ощущение, что logout время от времени происходит самопроизвольно, несмотря на то, что чекбокс про логине включен.\\r\\n\\r\\nВозможно, это происходит при смене IP-адреса, но я не уверен.',\n",
       "  'fb:app_id': '444736788986613',\n",
       "  'keywords': 'логин, login',\n",
       "  'msapplication-TileColor': '#FFFFFF',\n",
       "  'msapplication-TileImage': 'mstile-144x144.png',\n",
       "  'og:description': 'У меня такое ощущение, что logout время от времени происходит самопроизвольно, несмотря на то, что чекбокс про логине включен.  Возможно, это происходит при...',\n",
       "  'og:image': 'https://habrahabr.ru/i/habralogo.jpg',\n",
       "  'og:title': 'Самопроизвольное разлогинивание',\n",
       "  'og:type': 'article',\n",
       "  'og:url': 'https://habrahabr.ru/post/7/',\n",
       "  'pocket-site-verification': 'ed24b2b9721edf0a282c5b4a3232c4',\n",
       "  'referrer': 'unsafe-url',\n",
       "  'robots': 'noindex',\n",
       "  'twitter:card': 'summary',\n",
       "  'twitter:site': '@habrahabr',\n",
       "  'viewport': 'width=1024',\n",
       "  'yandex-verification': '67d46b975fa41645'},\n",
       " 'polling': None,\n",
       " 'post_id': 7,\n",
       " 'published': {'$date': '2006-07-15T01:48:00.000Z'},\n",
       " 'tags': ['логин', 'login'],\n",
       " 'title': 'Самопроизвольное разлогинивание',\n",
       " 'url': 'https://habrahabr.ru/post/7/'}"
      ]
     },
     "execution_count": 81,
     "metadata": {},
     "output_type": "execute_result"
    }
   ],
   "source": [
    "first_json"
   ]
  },
  {
   "cell_type": "code",
   "execution_count": 33,
   "metadata": {},
   "outputs": [
    {
     "data": {
      "text/plain": [
       "dict_keys(['_id', '_timestamp', 'url', 'domain', 'published', 'title', 'content', 'polling', 'post_id', 'flags', 'hubs', 'flow', 'tags', 'author', 'link_tags', 'meta_tags'])"
      ]
     },
     "execution_count": 33,
     "metadata": {},
     "output_type": "execute_result"
    }
   ],
   "source": [
    "first_json.keys()"
   ]
  },
  {
   "cell_type": "markdown",
   "metadata": {},
   "source": [
    "Видим 16 полей, перечислим некоторые из них:\n",
    "- _id, url - URL статьи\n",
    "- published – время публикации статьи\n",
    "- domain – сайт (например, habrahahbr.ru или geektimes.ru)\n",
    "- title – название статьи\n",
    "- content – текст статьи\n",
    "- hubs - перечисление хабов, к которым относится статья\n",
    "- tags – теги статьи\n",
    "- author – автор статьи, его ник и ссылка на профиль"
   ]
  },
  {
   "cell_type": "code",
   "execution_count": 34,
   "metadata": {},
   "outputs": [
    {
     "data": {
      "text/plain": [
       "'https://habrahabr.ru/post/7/'"
      ]
     },
     "execution_count": 34,
     "metadata": {},
     "output_type": "execute_result"
    }
   ],
   "source": [
    "first_json['_id']"
   ]
  },
  {
   "cell_type": "code",
   "execution_count": 35,
   "metadata": {},
   "outputs": [
    {
     "data": {
      "text/plain": [
       "1493192186.0903192"
      ]
     },
     "execution_count": 35,
     "metadata": {},
     "output_type": "execute_result"
    }
   ],
   "source": [
    "first_json['_timestamp']"
   ]
  },
  {
   "cell_type": "code",
   "execution_count": 36,
   "metadata": {},
   "outputs": [
    {
     "data": {
      "text/plain": [
       "'https://habrahabr.ru/post/7/'"
      ]
     },
     "execution_count": 36,
     "metadata": {},
     "output_type": "execute_result"
    }
   ],
   "source": [
    "first_json['url']"
   ]
  },
  {
   "cell_type": "code",
   "execution_count": 37,
   "metadata": {
    "scrolled": true
   },
   "outputs": [
    {
     "data": {
      "text/plain": [
       "'habrahabr.ru'"
      ]
     },
     "execution_count": 37,
     "metadata": {},
     "output_type": "execute_result"
    }
   ],
   "source": [
    "first_json['domain']"
   ]
  },
  {
   "cell_type": "code",
   "execution_count": 38,
   "metadata": {},
   "outputs": [
    {
     "data": {
      "text/plain": [
       "{'$date': '2006-07-15T01:48:00.000Z'}"
      ]
     },
     "execution_count": 38,
     "metadata": {},
     "output_type": "execute_result"
    }
   ],
   "source": [
    "first_json['published']"
   ]
  },
  {
   "cell_type": "markdown",
   "metadata": {},
   "source": [
    "экспериментируем со временем"
   ]
  },
  {
   "cell_type": "code",
   "execution_count": 132,
   "metadata": {},
   "outputs": [
    {
     "data": {
      "text/plain": [
       "1"
      ]
     },
     "execution_count": 132,
     "metadata": {},
     "output_type": "execute_result"
    }
   ],
   "source": [
    "datetime.strptime(first_json['published']['$date'], '%Y-%m-%dT%H:%M:%S.000Z').timetuple()[3]"
   ]
  },
  {
   "cell_type": "code",
   "execution_count": 39,
   "metadata": {},
   "outputs": [
    {
     "data": {
      "text/plain": [
       "'Самопроизвольное разлогинивание'"
      ]
     },
     "execution_count": 39,
     "metadata": {},
     "output_type": "execute_result"
    }
   ],
   "source": [
    "first_json['title']"
   ]
  },
  {
   "cell_type": "code",
   "execution_count": 40,
   "metadata": {},
   "outputs": [
    {
     "data": {
      "text/plain": [
       "'У меня такое ощущение, что logout время от времени происходит самопроизвольно, несмотря на то, что чекбокс про логине включен.<br>\\r\\n<br>\\r\\nВозможно, это происходит при смене IP-адреса, но я не уверен.'"
      ]
     },
     "execution_count": 40,
     "metadata": {},
     "output_type": "execute_result"
    }
   ],
   "source": [
    "first_json['content']"
   ]
  },
  {
   "cell_type": "code",
   "execution_count": 55,
   "metadata": {},
   "outputs": [
    {
     "data": {
      "text/plain": [
       "'199'"
      ]
     },
     "execution_count": 55,
     "metadata": {},
     "output_type": "execute_result"
    }
   ],
   "source": [
    "str(len(first_json['content']))"
   ]
  },
  {
   "cell_type": "code",
   "execution_count": 41,
   "metadata": {
    "collapsed": true
   },
   "outputs": [],
   "source": [
    "first_json['polling']"
   ]
  },
  {
   "cell_type": "code",
   "execution_count": 42,
   "metadata": {},
   "outputs": [
    {
     "data": {
      "text/plain": [
       "7"
      ]
     },
     "execution_count": 42,
     "metadata": {},
     "output_type": "execute_result"
    }
   ],
   "source": [
    "first_json['post_id']"
   ]
  },
  {
   "cell_type": "code",
   "execution_count": 43,
   "metadata": {},
   "outputs": [
    {
     "data": {
      "text/plain": [
       "[]"
      ]
     },
     "execution_count": 43,
     "metadata": {},
     "output_type": "execute_result"
    }
   ],
   "source": [
    "first_json['flags']"
   ]
  },
  {
   "cell_type": "code",
   "execution_count": 44,
   "metadata": {},
   "outputs": [
    {
     "data": {
      "text/plain": [
       "[{'id': 'hub/habr',\n",
       "  'title': 'Хабрахабр',\n",
       "  'url': 'https://habrahabr.ru/hub/habr/'}]"
      ]
     },
     "execution_count": 44,
     "metadata": {},
     "output_type": "execute_result"
    }
   ],
   "source": [
    "first_json['hubs']"
   ]
  },
  {
   "cell_type": "code",
   "execution_count": 45,
   "metadata": {
    "collapsed": true
   },
   "outputs": [],
   "source": [
    "first_json['flow']"
   ]
  },
  {
   "cell_type": "code",
   "execution_count": 46,
   "metadata": {},
   "outputs": [
    {
     "data": {
      "text/plain": [
       "['логин', 'login']"
      ]
     },
     "execution_count": 46,
     "metadata": {},
     "output_type": "execute_result"
    }
   ],
   "source": [
    "first_json['tags']"
   ]
  },
  {
   "cell_type": "code",
   "execution_count": 47,
   "metadata": {},
   "outputs": [
    {
     "data": {
      "text/plain": [
       "{'name': 'Павел Титов',\n",
       " 'nickname': '@ptitov',\n",
       " 'url': 'https://habrahabr.ru/users/ptitov'}"
      ]
     },
     "execution_count": 47,
     "metadata": {},
     "output_type": "execute_result"
    }
   ],
   "source": [
    "first_json['author']"
   ]
  },
  {
   "cell_type": "code",
   "execution_count": 48,
   "metadata": {},
   "outputs": [
    {
     "data": {
      "text/plain": [
       "{'alternate': 'https://habrahabr.ru/rss/post/7/',\n",
       " 'apple-touch-icon-precomposed': '/images/favicons/apple-touch-icon-152x152.png',\n",
       " 'canonical': 'https://habrahabr.ru/post/7/',\n",
       " 'icon': '/images/favicons/favicon-16x16.png',\n",
       " 'image_src': 'https://habrahabr.ru/i/habralogo.jpg',\n",
       " 'stylesheet': 'https://habracdn.net/habr/styles/1493134745/_build/global_main.css'}"
      ]
     },
     "execution_count": 48,
     "metadata": {},
     "output_type": "execute_result"
    }
   ],
   "source": [
    "first_json['link_tags']"
   ]
  },
  {
   "cell_type": "code",
   "execution_count": 49,
   "metadata": {},
   "outputs": [
    {
     "data": {
      "text/plain": [
       "{'al:android:app_name': 'Habrahabr',\n",
       " 'al:android:package': 'ru.habrahabr',\n",
       " 'al:android:url': 'habrahabr://post/7',\n",
       " 'al:windows_phone:app_id': '460a6bd6-8955-470f-935e-9ea1726a6060',\n",
       " 'al:windows_phone:app_name': 'Habrahabr',\n",
       " 'al:windows_phone:url': 'habrahabr://post/7',\n",
       " 'apple-mobile-web-app-title': 'Хабрахабр',\n",
       " 'application-name': 'Хабрахабр',\n",
       " 'description': 'У меня такое ощущение, что logout время от времени происходит самопроизвольно, несмотря на то, что чекбокс про логине включен.\\r\\n\\r\\nВозможно, это происходит при смене IP-адреса, но я не уверен.',\n",
       " 'fb:app_id': '444736788986613',\n",
       " 'keywords': 'логин, login',\n",
       " 'msapplication-TileColor': '#FFFFFF',\n",
       " 'msapplication-TileImage': 'mstile-144x144.png',\n",
       " 'og:description': 'У меня такое ощущение, что logout время от времени происходит самопроизвольно, несмотря на то, что чекбокс про логине включен.  Возможно, это происходит при...',\n",
       " 'og:image': 'https://habrahabr.ru/i/habralogo.jpg',\n",
       " 'og:title': 'Самопроизвольное разлогинивание',\n",
       " 'og:type': 'article',\n",
       " 'og:url': 'https://habrahabr.ru/post/7/',\n",
       " 'pocket-site-verification': 'ed24b2b9721edf0a282c5b4a3232c4',\n",
       " 'referrer': 'unsafe-url',\n",
       " 'robots': 'noindex',\n",
       " 'twitter:card': 'summary',\n",
       " 'twitter:site': '@habrahabr',\n",
       " 'viewport': 'width=1024',\n",
       " 'yandex-verification': '67d46b975fa41645'}"
      ]
     },
     "execution_count": 49,
     "metadata": {},
     "output_type": "execute_result"
    }
   ],
   "source": [
    "first_json['meta_tags']"
   ]
  },
  {
   "cell_type": "markdown",
   "metadata": {},
   "source": [
    "Загрузим ответы на обучающей выборке."
   ]
  },
  {
   "cell_type": "code",
   "execution_count": 52,
   "metadata": {
    "collapsed": true
   },
   "outputs": [],
   "source": [
    "train_target = pd.read_csv('../../../data/train_target.csv',\n",
    "                          index_col='url')"
   ]
  },
  {
   "cell_type": "code",
   "execution_count": 441,
   "metadata": {},
   "outputs": [
    {
     "data": {
      "text/html": [
       "<div>\n",
       "<style>\n",
       "    .dataframe thead tr:only-child th {\n",
       "        text-align: right;\n",
       "    }\n",
       "\n",
       "    .dataframe thead th {\n",
       "        text-align: left;\n",
       "    }\n",
       "\n",
       "    .dataframe tbody tr th {\n",
       "        vertical-align: top;\n",
       "    }\n",
       "</style>\n",
       "<table border=\"1\" class=\"dataframe\">\n",
       "  <thead>\n",
       "    <tr style=\"text-align: right;\">\n",
       "      <th></th>\n",
       "      <th>target</th>\n",
       "    </tr>\n",
       "    <tr>\n",
       "      <th>url</th>\n",
       "      <th></th>\n",
       "    </tr>\n",
       "  </thead>\n",
       "  <tbody>\n",
       "    <tr>\n",
       "      <th>https://habrahabr.ru/post/7/</th>\n",
       "      <td>0.693147</td>\n",
       "    </tr>\n",
       "    <tr>\n",
       "      <th>https://geektimes.ru/post/11/</th>\n",
       "      <td>1.098612</td>\n",
       "    </tr>\n",
       "    <tr>\n",
       "      <th>https://geektimes.ru/post/112/</th>\n",
       "      <td>0.000000</td>\n",
       "    </tr>\n",
       "    <tr>\n",
       "      <th>https://geektimes.ru/post/1127/</th>\n",
       "      <td>0.000000</td>\n",
       "    </tr>\n",
       "    <tr>\n",
       "      <th>https://geektimes.ru/post/12664/</th>\n",
       "      <td>0.000000</td>\n",
       "    </tr>\n",
       "  </tbody>\n",
       "</table>\n",
       "</div>"
      ],
      "text/plain": [
       "                                    target\n",
       "url                                       \n",
       "https://habrahabr.ru/post/7/      0.693147\n",
       "https://geektimes.ru/post/11/     1.098612\n",
       "https://geektimes.ru/post/112/    0.000000\n",
       "https://geektimes.ru/post/1127/   0.000000\n",
       "https://geektimes.ru/post/12664/  0.000000"
      ]
     },
     "execution_count": 441,
     "metadata": {},
     "output_type": "execute_result"
    }
   ],
   "source": [
    "train_target.head()"
   ]
  },
  {
   "cell_type": "code",
   "execution_count": 258,
   "metadata": {},
   "outputs": [
    {
     "data": {
      "text/plain": [
       "0.69314700000000007"
      ]
     },
     "execution_count": 258,
     "metadata": {},
     "output_type": "execute_result"
    }
   ],
   "source": [
    "# тест для \"доставания\" метки-значения из файла\n",
    "train_target.loc[first_json['url'], 'target']"
   ]
  },
  {
   "cell_type": "markdown",
   "metadata": {},
   "source": [
    "Сформируйте обучающую выборку для Vowpal Wabbit, выберите признаки title, tags, domain, flow, author, и hubs из JSON-файла.\n",
    "От самого текста для начала просто возьмем его длину: постройте признак content_len – длина текста в миллионах символов.\n",
    "Также постройте признаки: час и месяц публикации статьи. Еще, конечно же, возьмите ответы на обучающей выборке из `train_target`. Ниже пример того, как могут выглядеть первые две строки нового файла."
   ]
  },
  {
   "cell_type": "code",
   "execution_count": 23,
   "metadata": {},
   "outputs": [
    {
     "name": "stdout",
     "output_type": "stream",
     "text": [
      "0.6931470000000001 |title Самопроизвольное разлогинивание |tags логин login |domain habrahabr.ru |flow None |author @ptitov |hubs Хабрахабр |num content_len:0.0 month:7 hour:1\r\n",
      "1.0986120000000001 |title Stand-along cообщества против сообществ в рамках социальных сетей |tags сообщества интернет-сообщество социальные сети нишевой бренд |domain geektimes.ru |flow None |author @AlexBruce |hubs Чёрная дыра |num content_len:0.0 month:7 hour:14\r\n"
     ]
    }
   ],
   "source": [
    "!head -2 ../../data/habr_train.vw"
   ]
  },
  {
   "cell_type": "code",
   "execution_count": 440,
   "metadata": {},
   "outputs": [
    {
     "name": "stdout",
     "output_type": "stream",
     "text": [
      "0.693147 |title РЎР°РјРѕРїСЂРѕРёР·РІРѕР»СЊРЅРѕРµ СЂР°Р·Р»РѕРіРёРЅРёРІР°РЅРёРµ |tags Р»РѕРіРёРЅ login |domain habrahabr.ru |flow None |author @ptitov |hubs РҐР°Р±СЂР°С…Р°Р±СЂ |num content_len:0.0 month:7 hour:1\n",
      "1.098612 |title Stand-along cРѕРѕР±С‰РµСЃС‚РІР° РїСЂРѕС‚РёРІ СЃРѕРѕР±С‰РµСЃС‚РІ РІ СЂР°РјРєР°С… СЃРѕС†РёР°Р»СЊРЅС‹С… СЃРµС‚РµР№ |tags СЃРѕРѕР±С‰РµСЃС‚РІР° РёРЅС‚РµСЂРЅРµС‚-СЃРѕРѕР±С‰РµСЃС‚РІРѕ СЃРѕС†РёР°Р»СЊРЅС‹Рµ СЃРµС‚Рё РЅРёС€РµРІРѕР№ Р±СЂРµРЅРґ |domain geektimes.ru |flow None |author @AlexBruce |hubs Р§С‘СЂРЅР°СЏ РґС‹СЂР° |num content_len:0.0 month:7 hour:14\n"
     ]
    }
   ],
   "source": [
    "!head -2 ../../../data/habr_train2.vw"
   ]
  },
  {
   "cell_type": "markdown",
   "metadata": {},
   "source": [
    "ПРИМЕЧАНИЕ: как видим, имеется проблемка с кодировкой при выводе на экран. Тем не менее в файле все ОК (читается нормально) и на результат это тоже не повлияло"
   ]
  },
  {
   "cell_type": "code",
   "execution_count": 498,
   "metadata": {
    "collapsed": true
   },
   "outputs": [],
   "source": [
    "# функция для подготовки ОБУЧАЮЩЕЙ выборки для формата vowpal wabbit\n",
    "# не забываем убирать из текста \":\" и \"|\"\n",
    "\n",
    "def to_vw_format_train(document, target):\n",
    "    return str(target.loc[document['url'], 'target']) \\\n",
    "                              + ' |title ' + str(document['title'] or 'None').replace(\"|\",\" \").replace(\":\",\" \") \\\n",
    "                              + ' |tags ' + str(' '.join(document['tags']) or 'None').replace(\"|\",\" \").replace(\":\",\" \") \\\n",
    "                              + ' |domain ' + str(document['domain'] or 'None').replace(\"|\",\" \").replace(\":\",\" \") \\\n",
    "                              + ' |flow ' + str(document['flow'] or 'None').replace(\"|\",\" \").replace(\":\",\" \") \\\n",
    "                              + ' |author ' + str(document['author']['nickname'] or 'None').replace(\"|\",\" \").replace(\":\",\" \") \\\n",
    "                              + ' |hubs ' + str(document['hubs'][0]['title'] or 'None').replace(\"|\",\" \").replace(\":\",\" \") \\\n",
    "                              + ' |num ' + 'content_len:' + str(round(len(document['content']) / 10**6, 2)) \\\n",
    "                                         + ' month:' + str(datetime.strptime(document['published']['$date'], \n",
    "                                                                             '%Y-%m-%dT%H:%M:%S.000Z').timetuple()[1]) \\\n",
    "                                         + ' hour:' + str(datetime.strptime(document['published']['$date'], \n",
    "                                                                             '%Y-%m-%dT%H:%M:%S.000Z').timetuple()[3]) \\\n",
    "                                + '\\n'"
   ]
  },
  {
   "cell_type": "markdown",
   "metadata": {},
   "source": [
    "Отлаживаем подготовку данных для VW"
   ]
  },
  {
   "cell_type": "code",
   "execution_count": 486,
   "metadata": {},
   "outputs": [
    {
     "name": "stdout",
     "output_type": "stream",
     "text": [
      "UTF-8\n"
     ]
    }
   ],
   "source": [
    "#  Проверка encoding в среде Python\n",
    "\n",
    "#!python -c \n",
    "import sys; print(sys.stdout.encoding)"
   ]
  },
  {
   "cell_type": "code",
   "execution_count": 487,
   "metadata": {
    "collapsed": true
   },
   "outputs": [],
   "source": [
    "# тест: подготовка данных для VW\n",
    "!head -500 ../../../data/train.json > ../../../data/train2.json"
   ]
  },
  {
   "cell_type": "code",
   "execution_count": 488,
   "metadata": {},
   "outputs": [
    {
     "data": {
      "application/vnd.jupyter.widget-view+json": {
       "model_id": "9d7d75d6b35847508f942b4a0a013d40"
      }
     },
     "metadata": {},
     "output_type": "display_data"
    }
   ],
   "source": [
    "# тест (продолжение): подготовка данных для VW\n",
    "with open('../../../data/train2.json', encoding='utf-8') as inp_json, \\\n",
    "     open('../../../data/habr_train2.vw', 'w', encoding='utf-8') as out_vw:\n",
    "    #n = json.loads(inp_json)\n",
    "    for line in tqdm_notebook(inp_json, total=500):\n",
    "        data_json = json.loads(line)\n",
    "        \n",
    "        # Ваш код здесь\n",
    "        out_vw.write(to_vw_format_train(data_json, train_target))"
   ]
  },
  {
   "cell_type": "code",
   "execution_count": 499,
   "metadata": {},
   "outputs": [
    {
     "data": {
      "application/vnd.jupyter.widget-view+json": {
       "model_id": "863c0b66c9594ab5989ec176da8eb9d3"
      }
     },
     "metadata": {},
     "output_type": "display_data"
    }
   ],
   "source": [
    "# подготовка train данных для VW\n",
    "\n",
    "with open('../../../data/train.json', encoding='utf-8') as inp_json, \\\n",
    "     open('../../../data/habr_train.vw', 'w', encoding='utf-8') as out_vw:\n",
    "    for line in tqdm_notebook(inp_json, total=120000):\n",
    "        data_json = json.loads(line)\n",
    "        \n",
    "        # Ваш код здесь\n",
    "        out_vw.write(to_vw_format_train(data_json, train_target))"
   ]
  },
  {
   "cell_type": "markdown",
   "metadata": {},
   "source": [
    "Проделайте все то же с тестовой выборкой, вместо ответов подсовывая что угодно, например, единицы."
   ]
  },
  {
   "cell_type": "code",
   "execution_count": 500,
   "metadata": {
    "collapsed": true
   },
   "outputs": [],
   "source": [
    "# функция для подготовки ТЕСТОВОЙ выборки для формата vowpal wabbit\n",
    "def to_vw_format_test(document):\n",
    "    return '1' \\\n",
    "                              + ' |title ' + str(document['title'] or 'None').replace(\"|\",\" \").replace(\":\",\" \") \\\n",
    "                              + ' |tags ' + str(' '.join(document['tags']) or 'None').replace(\"|\",\" \").replace(\":\",\" \") \\\n",
    "                              + ' |domain ' + str(document['domain'] or 'None').replace(\"|\",\" \").replace(\":\",\" \") \\\n",
    "                              + ' |flow ' + str(document['flow'] or 'None').replace(\"|\",\" \").replace(\":\",\" \") \\\n",
    "                              + ' |author ' + str(document['author']['nickname'] or 'None').replace(\"|\",\" \").replace(\":\",\" \") \\\n",
    "                              + ' |hubs ' + str(document['hubs'][0]['title'] or 'None').replace(\"|\",\" \").replace(\":\",\" \") \\\n",
    "                              + ' |num ' + 'content_len:' + str(round(len(document['content']) / 10**6, 2)) \\\n",
    "                                         + ' month:' + str(datetime.strptime(document['published']['$date'], \n",
    "                                                                             '%Y-%m-%dT%H:%M:%S.000Z').timetuple()[1]) \\\n",
    "                                         + ' hour:' + str(datetime.strptime(document['published']['$date'], \n",
    "                                                                             '%Y-%m-%dT%H:%M:%S.000Z').timetuple()[3]) \\\n",
    "                                + '\\n'"
   ]
  },
  {
   "cell_type": "code",
   "execution_count": 501,
   "metadata": {},
   "outputs": [
    {
     "data": {
      "application/vnd.jupyter.widget-view+json": {
       "model_id": "9319a06c13204ff594cea14a7afab06f"
      }
     },
     "metadata": {},
     "output_type": "display_data"
    }
   ],
   "source": [
    "# подготовка test данных для VW\n",
    "with open('../../../data/test.json', encoding='utf-8') as inp_json, \\\n",
    "     open('../../../data/habr_test.vw', 'w', encoding='utf-8') as out_vw:\n",
    "    for line in tqdm_notebook(inp_json, total=52913):\n",
    "        data_json = json.loads(line)\n",
    "        \n",
    "        # Ваш код здесь\n",
    "        out_vw.write(to_vw_format_test(data_json))"
   ]
  },
  {
   "cell_type": "markdown",
   "metadata": {},
   "source": [
    "посмотрим для контроля на 1-й url тестовой выборки"
   ]
  },
  {
   "cell_type": "code",
   "execution_count": 415,
   "metadata": {
    "collapsed": true
   },
   "outputs": [],
   "source": [
    "!head -1 ../../../data/test.json > ../../../data/test1.json\n",
    "with open('../../../data/test1.json', encoding='utf-8') as inp_json:\n",
    "    test1_json = json.load(inp_json)"
   ]
  },
  {
   "cell_type": "code",
   "execution_count": 416,
   "metadata": {},
   "outputs": [
    {
     "data": {
      "text/plain": [
       "'https://geektimes.ru/post/87455/'"
      ]
     },
     "execution_count": 416,
     "metadata": {},
     "output_type": "execute_result"
    }
   ],
   "source": [
    "test1_json['url']"
   ]
  },
  {
   "cell_type": "code",
   "execution_count": 343,
   "metadata": {},
   "outputs": [
    {
     "name": "stdout",
     "output_type": "stream",
     "text": [
      "1 |title Р”РµРЅСЊ РџРё! |tags РџРё Pi |domain geektimes.ru |flow None |author @Timursan |hubs Р§С‘СЂРЅР°СЏ РґС‹СЂР° |num content_len:0.0 month:3 hour:3\n",
      "1 |title РЎРєСЂРёРїС‚ РґР»СЏ СЂР°Р·Р±РёРµРЅРёСЏ РѕР±СЂР°Р·РѕРІ РјСѓР·С‹РєР°Р»СЊРЅС‹С… CD РЅР° С‚СЂРµРєРё Рё РєРѕРЅРІРµСЂС‚Р°С†РёРё РІ С„РѕСЂРјР°С‚ FLAC |tags bash lossless |domain geektimes.ru |flow None |author @da3mon |hubs Р§С‘СЂРЅР°СЏ РґС‹СЂР° |num content_len:0.01 month:3 hour:0\n"
     ]
    }
   ],
   "source": [
    "!head -2 ../../../data/habr_test.vw"
   ]
  },
  {
   "cell_type": "code",
   "execution_count": 24,
   "metadata": {},
   "outputs": [
    {
     "name": "stdout",
     "output_type": "stream",
     "text": [
      "1 |title День Пи! |tags Пи Pi |domain geektimes.ru |flow None |author @Timursan |hubs Чёрная дыра |num content_len:0.0 month:3 hour:3\r\n",
      "1 |title Скрипт для разбиения образов музыкальных CD на треки и конвертации в формат FLAC |tags bash lossless |domain geektimes.ru |flow None |author @da3mon |hubs Чёрная дыра |num content_len:0.01 month:3 hour:0\r\n"
     ]
    }
   ],
   "source": [
    "!head -2 ../../data/habr_test.vw"
   ]
  },
  {
   "cell_type": "markdown",
   "metadata": {},
   "source": [
    "Выбор того, как валидировать модель, остается за Вами. Проще всего, конечно, сделать отложенную выборку. Бенчмарк, который Вы видите в соревновании (**vw_baseline.csv**) и который надо побить, получен с Vowpal Wabbit, 3 проходами по выборке (не забываем удалять кэш), биграммами и настроенными гиперпараметрами `bits`, `learning_rate` и `power_t`. "
   ]
  },
  {
   "cell_type": "markdown",
   "metadata": {},
   "source": [
    "# Блок отладки обучения и валидации"
   ]
  },
  {
   "cell_type": "code",
   "execution_count": 285,
   "metadata": {},
   "outputs": [
    {
     "data": {
      "text/plain": [
       "(84000, 36000)"
      ]
     },
     "execution_count": 285,
     "metadata": {},
     "output_type": "execute_result"
    }
   ],
   "source": [
    "# Ваш код здесь\n",
    "\n",
    "# разбиваем train на обучающую и отложенную\n",
    "# готовим адреса для разбивки: 70% - train, 30% - valid\n",
    "n_total = 120000\n",
    "n_train = int(n_total * 0.7)\n",
    "n_valid = n_total - n_train\n",
    "n_train, n_valid"
   ]
  },
  {
   "cell_type": "markdown",
   "metadata": {},
   "source": [
    "непосредственно разбиваем:"
   ]
  },
  {
   "cell_type": "code",
   "execution_count": 502,
   "metadata": {
    "collapsed": true
   },
   "outputs": [],
   "source": [
    "with open('../../../data/habr_train.vw', encoding='utf-8') as train, \\\n",
    "     open('../../../data/habr_work_train.vw', 'w', encoding='utf-8') as work_train, \\\n",
    "     open('../../../data/habr_work_valid.vw', 'w', encoding='utf-8') as work_valid:\n",
    "    for i in range(n_train):\n",
    "        work_train.write(train.readline())\n",
    "    for i in range(n_valid):\n",
    "        work_valid.write(train.readline())"
   ]
  },
  {
   "cell_type": "markdown",
   "metadata": {},
   "source": [
    "Обучим Vowpal Wabbit:"
   ]
  },
  {
   "cell_type": "code",
   "execution_count": 493,
   "metadata": {},
   "outputs": [
    {
     "name": "stderr",
     "output_type": "stream",
     "text": [
      "final_regressor = ../../../data/habr_model.vw\n",
      "Num weight bits = 18\n",
      "learning rate = 0.5\n",
      "initial_t = 0\n",
      "power_t = 0.5\n",
      "decay_learning_rate = 1\n",
      "creating cache_file = ../../../data/habr_work_train.vw.cache\n",
      "Reading datafile = ../../../data/habr_work_train.vw\n",
      "num sources = 1\n",
      "average  since         example        example  current  current  current\n",
      "loss     last          counter         weight    label  predict features\n",
      "0.480453 0.480453            1            1.0   0.6931   0.0000       11\n",
      "0.248073 0.015693            2            2.0   1.0986   0.9733       23\n",
      "0.138161 0.028250            4            4.0   0.0000   0.1317       26\n",
      "3.758118 7.378074            8            8.0   4.9698   0.6343       25\n",
      "3.973398 4.188678           16           16.0   2.3026   1.4936       19\n",
      "4.819290 5.665183           32           32.0   2.8904   3.0134       15\n",
      "4.103258 3.387225           64           64.0   0.0000   3.0282       15\n",
      "3.223466 2.343673          128          128.0   5.1475   2.1160       16\n",
      "2.683673 2.143881          256          256.0   4.7707   3.7100       24\n",
      "2.443030 2.202388          512          512.0   3.1355   2.1369       17\n",
      "2.172896 1.902761         1024         1024.0   6.4785   4.6670       21\n",
      "1.964537 1.756179         2048         2048.0   5.7236   4.9919       25\n",
      "1.693772 1.423007         4096         4096.0   3.3322   3.3598       16\n",
      "1.511006 1.328240         8192         8192.0   4.1589   2.8226       28\n",
      "1.339432 1.167858        16384        16384.0   2.7081   4.4438       16\n",
      "1.136778 0.934124        32768        32768.0   4.1744   3.3592       24\n",
      "0.909489 0.682201        65536        65536.0   1.3863   2.2541       21\n",
      "0.835470 0.835470       131072       131072.0   3.0910   2.5502       24 h\n",
      "\n",
      "finished run\n",
      "number of examples per pass = 75600\n",
      "passes used = 3\n",
      "weighted example sum = 226800.000000\n",
      "weighted label sum = 752992.242166\n",
      "average loss = 0.783285 h\n",
      "best constant = 3.320072\n",
      "total feature number = 5164710\n"
     ]
    },
    {
     "name": "stdout",
     "output_type": "stream",
     "text": [
      "Wall time: 5.1 s\n"
     ]
    }
   ],
   "source": [
    "%%time\n",
    "!vw -d ../../../data/habr_work_train.vw -c --passes 3 -k \\\n",
    "    -f ../../../data/habr_model.vw"
   ]
  },
  {
   "cell_type": "markdown",
   "metadata": {
    "collapsed": true
   },
   "source": [
    "Модель обучена.  Применим обученную модель на ОТЛОЖЕННОЙ выборке, сохраняя предсказания в файл с помощью опции -p:"
   ]
  },
  {
   "cell_type": "code",
   "execution_count": 494,
   "metadata": {},
   "outputs": [
    {
     "name": "stderr",
     "output_type": "stream",
     "text": [
      "only testing\n",
      "predictions = ../../../data/habr_work_valid_predictions.txt\n",
      "Num weight bits = 18\n",
      "learning rate = 0.5\n",
      "initial_t = 0\n",
      "power_t = 0.5\n",
      "using no cache\n",
      "Reading datafile = ../../../data/habr_work_valid.vw\n",
      "num sources = 1\n",
      "average  since         example        example  current  current  current\n",
      "loss     last          counter         weight    label  predict features\n",
      "0.573763 0.573763            1            1.0   1.3863   2.1438       14\n",
      "0.578485 0.583208            2            2.0   0.6931   1.4568       19\n",
      "0.539411 0.500336            4            4.0   0.0000   0.0000       23\n",
      "0.691060 0.842709            8            8.0   1.3863   0.6253       17\n",
      "0.520036 0.349012           16           16.0   1.6094   0.7845       12\n",
      "0.649091 0.778146           32           32.0   2.5649   1.8322       22\n",
      "1.048092 1.447093           64           64.0   4.2627   2.4291       24\n",
      "1.096254 1.144416          128          128.0   0.0000   0.6062       21\n",
      "1.088529 1.080803          256          256.0   0.0000   1.3681       16\n",
      "1.039491 0.990453          512          512.0   0.6931   1.7481       18\n",
      "1.118794 1.198097         1024         1024.0   1.6094   2.3167       19\n",
      "1.154853 1.190911         2048         2048.0   3.7377   2.5753       18\n",
      "1.284146 1.413440         4096         4096.0   0.0000   1.4572       21\n",
      "1.383333 1.482519         8192         8192.0   3.0445   3.2978       23\n",
      "1.405402 1.427470        16384        16384.0   0.0000   1.1773       18\n",
      "1.436402 1.467403        32768        32768.0   1.7918   2.3455       27\n",
      "\n",
      "finished run\n",
      "number of examples per pass = 36000\n",
      "passes used = 1\n",
      "weighted example sum = 36000.000000\n",
      "weighted label sum = 60480.201119\n",
      "average loss = 1.445653\n",
      "best constant = 1.680006\n",
      "total feature number = 681396\n"
     ]
    }
   ],
   "source": [
    "!vw -i ../../../data/habr_model.vw -t -d ../../../data/habr_work_valid.vw \\\n",
    "-p ../../../data/habr_work_valid_predictions.txt"
   ]
  },
  {
   "cell_type": "markdown",
   "metadata": {},
   "source": [
    "### Организуем валидацию"
   ]
  },
  {
   "cell_type": "markdown",
   "metadata": {},
   "source": [
    "валидационные значения"
   ]
  },
  {
   "cell_type": "code",
   "execution_count": 495,
   "metadata": {
    "collapsed": true
   },
   "outputs": [],
   "source": [
    "valid_vals = train_target.iloc[n_train:, 0].values"
   ]
  },
  {
   "cell_type": "code",
   "execution_count": 496,
   "metadata": {},
   "outputs": [
    {
     "data": {
      "text/plain": [
       "(36000,)"
      ]
     },
     "execution_count": 496,
     "metadata": {},
     "output_type": "execute_result"
    }
   ],
   "source": [
    "valid_vals.shape"
   ]
  },
  {
   "cell_type": "markdown",
   "metadata": {},
   "source": [
    "валидационные предсказанные значения"
   ]
  },
  {
   "cell_type": "code",
   "execution_count": 504,
   "metadata": {
    "collapsed": true
   },
   "outputs": [],
   "source": [
    "valid_predictions = np.loadtxt('../../../data/habr_work_valid_predictions.txt')"
   ]
  },
  {
   "cell_type": "code",
   "execution_count": 505,
   "metadata": {},
   "outputs": [
    {
     "data": {
      "text/plain": [
       "(36000,)"
      ]
     },
     "execution_count": 505,
     "metadata": {},
     "output_type": "execute_result"
    }
   ],
   "source": [
    "valid_predictions.shape"
   ]
  },
  {
   "cell_type": "code",
   "execution_count": 506,
   "metadata": {},
   "outputs": [
    {
     "data": {
      "text/plain": [
       "0.95311521102777785"
      ]
     },
     "execution_count": 506,
     "metadata": {},
     "output_type": "execute_result"
    }
   ],
   "source": [
    "# 1-я валидация\n",
    "score_MAE = mean_absolute_error(valid_vals, valid_predictions)\n",
    "score_MAE"
   ]
  },
  {
   "cell_type": "code",
   "execution_count": 497,
   "metadata": {},
   "outputs": [
    {
     "data": {
      "text/plain": [
       "0.95413588913888892"
      ]
     },
     "execution_count": 497,
     "metadata": {},
     "output_type": "execute_result"
    }
   ],
   "source": [
    "# 2-я валидация\n",
    "valid_predictions = pd.read_csv('../../../data/habr_work_valid_predictions.txt', header=None).values\n",
    "score_MAE = mean_absolute_error(valid_vals, valid_predictions)\n",
    "score_MAE"
   ]
  },
  {
   "cell_type": "markdown",
   "metadata": {},
   "source": [
    "вывод: при изменения округления длины контента с 2 до 3 метрика увеличилась. Возвращаем до 2"
   ]
  },
  {
   "cell_type": "markdown",
   "metadata": {},
   "source": [
    "# Блок подбора параметров"
   ]
  },
  {
   "cell_type": "markdown",
   "metadata": {},
   "source": [
    "### Отладка подбора и ручной подбор"
   ]
  },
  {
   "cell_type": "code",
   "execution_count": 503,
   "metadata": {},
   "outputs": [
    {
     "data": {
      "text/plain": [
       "0.95311521102777785"
      ]
     },
     "execution_count": 503,
     "metadata": {},
     "output_type": "execute_result"
    }
   ],
   "source": [
    "# обучаем\n",
    "!vw -d ../../../data/habr_work_train.vw -c --passes 3 -k \\\n",
    "    -f ../../../data/habr_model.vw \\\n",
    "    --quiet\n",
    "# применяем на валидационной\n",
    "!vw -i ../../../data/habr_model.vw -t -d ../../../data/habr_work_valid.vw \\\n",
    "    -p ../../../data/habr_work_valid_predictions.txt \\\n",
    "    --quiet\n",
    "\n",
    "# scoring\n",
    "valid_predictions = np.loadtxt('../../../data/habr_work_valid_predictions.txt')\n",
    "score_MAE = mean_absolute_error(valid_vals, valid_predictions)\n",
    "score_MAE"
   ]
  },
  {
   "cell_type": "code",
   "execution_count": 512,
   "metadata": {},
   "outputs": [
    {
     "data": {
      "text/plain": [
       "0.94133603402777777"
      ]
     },
     "execution_count": 512,
     "metadata": {},
     "output_type": "execute_result"
    }
   ],
   "source": [
    "# обучаем\n",
    "!vw -d ../../../data/habr_work_train.vw -c -k \\\n",
    "    -f ../../../data/habr_model.vw \\\n",
    "    --quiet\n",
    "# применяем на валидационной\n",
    "!vw -i ../../../data/habr_model.vw -t -d ../../../data/habr_work_valid.vw \\\n",
    "    -p ../../../data/habr_work_valid_predictions.txt \\\n",
    "    --quiet\n",
    "\n",
    "# scoring\n",
    "valid_predictions = np.loadtxt('../../../data/habr_work_valid_predictions.txt')\n",
    "score_MAE = mean_absolute_error(valid_vals, valid_predictions)\n",
    "score_MAE\n",
    "\n",
    "# убрал 3 прохода на обучении"
   ]
  },
  {
   "cell_type": "code",
   "execution_count": 527,
   "metadata": {},
   "outputs": [
    {
     "data": {
      "text/plain": [
       "0.94671300052777774"
      ]
     },
     "execution_count": 527,
     "metadata": {},
     "output_type": "execute_result"
    }
   ],
   "source": [
    "# обучаем\n",
    "!vw -d ../../../data/habr_work_train.vw -c --passes 5 -k \\\n",
    "    -f ../../../data/habr_model.vw \\\n",
    "    --quiet\n",
    "# применяем на валидационной\n",
    "!vw -i ../../../data/habr_model.vw -t \\\n",
    "    -d ../../../data/habr_work_valid.vw \\\n",
    "    -p ../../../data/habr_work_valid_predictions.txt \\\n",
    "    --quiet\n",
    "\n",
    "# scoring\n",
    "valid_predictions = np.loadtxt('../../../data/habr_work_valid_predictions.txt')\n",
    "score_MAE = mean_absolute_error(valid_vals, valid_predictions)\n",
    "score_MAE\n",
    "\n",
    "# 5 проходов"
   ]
  },
  {
   "cell_type": "code",
   "execution_count": 529,
   "metadata": {},
   "outputs": [
    {
     "data": {
      "text/plain": [
       "0.94671300052777774"
      ]
     },
     "execution_count": 529,
     "metadata": {},
     "output_type": "execute_result"
    }
   ],
   "source": [
    "# обучаем\n",
    "!vw -d ../../../data/habr_work_train.vw -c --passes 5 -k \\\n",
    "    -f ../../../data/habr_model.vw \\\n",
    "    --quiet\n",
    "# применяем на валидационной\n",
    "!vw -i ../../../data/habr_model.vw -t \\\n",
    "    -d ../../../data/habr_work_valid.vw \\\n",
    "    -p ../../../data/habr_work_valid_predictions.txt \\\n",
    "    --quiet \\\n",
    "    --ngram title3\n",
    "\n",
    "# scoring\n",
    "valid_predictions = np.loadtxt('../../../data/habr_work_valid_predictions.txt')\n",
    "score_MAE = mean_absolute_error(valid_vals, valid_predictions)\n",
    "score_MAE\n",
    "\n",
    "# 5 проходов\n",
    "# ngram"
   ]
  },
  {
   "cell_type": "markdown",
   "metadata": {},
   "source": [
    "#### добавим в признак 'content'\n",
    "- (не прошло: ошибки, отлаживать пока не стал - вернул обратно)"
   ]
  },
  {
   "cell_type": "code",
   "execution_count": 532,
   "metadata": {},
   "outputs": [
    {
     "data": {
      "application/vnd.jupyter.widget-view+json": {
       "model_id": "e1064433a1274b5baed904358e8f059f"
      }
     },
     "metadata": {},
     "output_type": "display_data"
    },
    {
     "data": {
      "text/plain": [
       "0.94671300052777774"
      ]
     },
     "execution_count": 532,
     "metadata": {},
     "output_type": "execute_result"
    }
   ],
   "source": [
    "# функция для подготовки ОБУЧАЮЩЕЙ выборки для формата vowpal wabbit\n",
    "# не забываем убирать из текста \":\" и \"|\"\n",
    "\n",
    "def to_vw_format_train(document, target):\n",
    "    return str(target.loc[document['url'], 'target']) \\\n",
    "                              + ' |title ' + str(document['title'] or 'None').replace(\"|\",\" \").replace(\":\",\" \") \\\n",
    "                              + ' |tags ' + str(' '.join(document['tags']) or 'None').replace(\"|\",\" \").replace(\":\",\" \") \\\n",
    "                              + ' |domain ' + str(document['domain'] or 'None').replace(\"|\",\" \").replace(\":\",\" \") \\\n",
    "                              + ' |flow ' + str(document['flow'] or 'None').replace(\"|\",\" \").replace(\":\",\" \") \\\n",
    "                              + ' |author ' + str(document['author']['nickname'] or 'None').replace(\"|\",\" \").replace(\":\",\" \") \\\n",
    "                              + ' |hubs ' + str(document['hubs'][0]['title'] or 'None').replace(\"|\",\" \").replace(\":\",\" \") \\\n",
    "                              + ' |num ' + 'content_len:' + str(round(len(document['content']) / 10**6, 2)) \\\n",
    "                                         + ' month:' + str(datetime.strptime(document['published']['$date'], \n",
    "                                                                             '%Y-%m-%dT%H:%M:%S.000Z').timetuple()[1]) \\\n",
    "                                         + ' hour:' + str(datetime.strptime(document['published']['$date'], \n",
    "                                                                             '%Y-%m-%dT%H:%M:%S.000Z').timetuple()[3]) \\\n",
    "                                + '\\n'\n",
    "\n",
    "#                               + ' |content' + str(document['content'] or 'None').replace(\"|\",\" \").replace(\":\",\" \") \\\n",
    "                                \n",
    "# подготовка train данных для VW\n",
    "\n",
    "with open('../../../data/train.json', encoding='utf-8') as inp_json, \\\n",
    "     open('../../../data/habr_train.vw', 'w', encoding='utf-8') as out_vw:\n",
    "    for line in tqdm_notebook(inp_json, total=120000):\n",
    "        data_json = json.loads(line)\n",
    "        \n",
    "        # Ваш код здесь\n",
    "        out_vw.write(to_vw_format_train(data_json, train_target))\n",
    "\n",
    "        \n",
    "# разбиваем на трейн и валидационную        \n",
    "with open('../../../data/habr_train.vw', encoding='utf-8') as train, \\\n",
    "     open('../../../data/habr_work_train.vw', 'w', encoding='utf-8') as work_train, \\\n",
    "     open('../../../data/habr_work_valid.vw', 'w', encoding='utf-8') as work_valid:\n",
    "    for i in range(n_train):\n",
    "        work_train.write(train.readline())\n",
    "    for i in range(n_valid):\n",
    "        work_valid.write(train.readline())\n",
    "        \n",
    "\n",
    "# обучаем\n",
    "!vw -d ../../../data/habr_work_train.vw -c --passes 5 -k \\\n",
    "    -f ../../../data/habr_model.vw \\\n",
    "    --quiet\n",
    "# применяем на валидационной\n",
    "!vw -i ../../../data/habr_model.vw -t \\\n",
    "    -d ../../../data/habr_work_valid.vw \\\n",
    "    -p ../../../data/habr_work_valid_predictions.txt \\\n",
    "    --quiet \\\n",
    "    --ngram title3\n",
    "\n",
    "# scoring\n",
    "valid_predictions = np.loadtxt('../../../data/habr_work_valid_predictions.txt')\n",
    "score_MAE = mean_absolute_error(valid_vals, valid_predictions)\n",
    "score_MAE\n",
    "\n",
    "# 5 проходов\n",
    "# ngram\n",
    "# добавляем в признаки контент - удалили"
   ]
  },
  {
   "cell_type": "raw",
   "metadata": {},
   "source": [
    "%run /vowpal_wabbit/utl/vw-hyperopt.py \\ \n",
    "--train ../../data/vowpal/habr_traink.vw \\ \n",
    "--holdout ../../data/vowpal/habr_tholdout.vw \\ \n",
    "--max_evals 200 \\ \n",
    "--outer_loss_function squared \\ \n",
    "--vw_space ‘--algorithms=sgd -l=0.01..1~L --passes=1..10~I --loss_function=squared ’ --plot"
   ]
  },
  {
   "cell_type": "raw",
   "metadata": {},
   "source": [
    "%%time\n",
    "!vw -d ../../data/habr_train_final.vw -k -c -f ../../data/vw_model.vw -b 26 -l 0.52\\\n",
    "--random_seed=17 --passes 3 --ngram 2 --power_t 0.37"
   ]
  },
  {
   "cell_type": "code",
   "execution_count": 675,
   "metadata": {},
   "outputs": [
    {
     "data": {
      "text/plain": [
       "0.89381156866666667"
      ]
     },
     "execution_count": 675,
     "metadata": {},
     "output_type": "execute_result"
    }
   ],
   "source": [
    "# обучаем\n",
    "!vw \\\n",
    "-d ../../../data/habr_work_train.vw -c --passes 5 -k \\\n",
    "-f ../../../data/habr_model.vw \\\n",
    "--loss_function squared \\\n",
    "--learning_rate 0.19429722438207644 \\\n",
    "--power_t 0.1460283361704552 \\\n",
    "--ngram 2 \\\n",
    "--initial_t 0.38906999500560485 \\\n",
    "-b 26 \\\n",
    "--random_seed=17 \\\n",
    "--quiet\n",
    "# применяем на валидационной\n",
    "!vw \\\n",
    "-i ../../../data/habr_model.vw -t \\\n",
    "-d ../../../data/habr_work_valid.vw \\\n",
    "-p ../../../data/habr_work_valid_predictions.txt \\\n",
    "--quiet \\\n",
    "\n",
    "# scoring\n",
    "valid_predictions = np.loadtxt('../../../data/habr_work_valid_predictions.txt')\n",
    "score_MAE = mean_absolute_error(valid_vals, valid_predictions)\n",
    "score_MAE\n",
    "\n",
    "# 5 проходов\n",
    "# ngram"
   ]
  },
  {
   "cell_type": "markdown",
   "metadata": {
    "collapsed": true
   },
   "source": [
    "Бенчмарк, который Вы видите в соревновании (vw_baseline.csv) и который надо побить, получен с Vowpal Wabbit, 3 проходами по выборке (не забываем удалять кэш), **биграммами** и настроенными гиперпараметрами **bits, learning_rate и power_t.**"
   ]
  },
  {
   "cell_type": "markdown",
   "metadata": {
    "collapsed": true
   },
   "source": [
    "## Подбор параметров с помощью модуля hyperopt\n",
    "\n",
    "подробности здесь https://github.com/hyperopt/hyperopt/wiki/FMin"
   ]
  },
  {
   "cell_type": "code",
   "execution_count": 545,
   "metadata": {
    "collapsed": true
   },
   "outputs": [],
   "source": [
    "#!pip install hyperopt\n",
    "import pickle\n",
    "import time\n",
    "from hyperopt import fmin, tpe, hp, STATUS_OK, Trials"
   ]
  },
  {
   "cell_type": "code",
   "execution_count": 589,
   "metadata": {
    "collapsed": true
   },
   "outputs": [],
   "source": [
    "best_results = {}"
   ]
  },
  {
   "cell_type": "code",
   "execution_count": 704,
   "metadata": {
    "collapsed": true
   },
   "outputs": [],
   "source": [
    "def hyperopt_objective(params):\n",
    "    # обучаем\n",
    "    !vw \\\n",
    "    -d ../../../data/habr_work_train.vw \\\n",
    "    -f ../../../data/habr_model.vw \\\n",
    "    -c \\\n",
    "    --passes 5 \\\n",
    "    -k \\\n",
    "    --loss_function squared \\\n",
    "    --learning_rate {params['learning_rate']} \\\n",
    "    --power_t {params['power_t']} \\\n",
    "    --ngram 2 \\\n",
    "    --initial_t {params['initial_t']} \\\n",
    "    -b 26 \\\n",
    "    --random_seed=17 \\\n",
    "    --quiet\n",
    "    \n",
    "    \n",
    "    # применяем на валидационной\n",
    "    !vw -i ../../../data/habr_model.vw \\\n",
    "        -t -d ../../../data/habr_work_valid.vw \\\n",
    "        -p ../../../data/habr_work_valid_predictions.txt \\\n",
    "        --quiet\n",
    "        \n",
    "        \n",
    "    # scoring\n",
    "    valid_predictions = np.loadtxt('../../../data/habr_work_valid_predictions.txt')\n",
    "    score_MAE = mean_absolute_error(valid_vals, valid_predictions)\n",
    "    \n",
    "    return score_MAE\n",
    "\n",
    "# блок изменения параметров\n",
    "params_space = {\n",
    "    'learning_rate': hp.uniform('learning_rate', 0., 2.0), # default = 0.5\n",
    "    'power_t': hp.uniform('power_t', 0., 1.0), # default = 0.5\n",
    "    'initial_t': hp.uniform('initial_t', 0., 2.0), # default = 0\n",
    "                }"
   ]
  },
  {
   "cell_type": "code",
   "execution_count": 705,
   "metadata": {
    "scrolled": true
   },
   "outputs": [
    {
     "name": "stdout",
     "output_type": "stream",
     "text": [
      "Wall time: 18min 27s\n"
     ]
    }
   ],
   "source": [
    "%%time\n",
    "# запускаем подбор\n",
    "trials = Trials()\n",
    "\n",
    "best_params = fmin(\n",
    "    hyperopt_objective,\n",
    "    space=params_space,\n",
    "    algo=tpe.suggest,\n",
    "    max_evals=100,\n",
    "    trials=trials\n",
    ")"
   ]
  },
  {
   "cell_type": "code",
   "execution_count": 706,
   "metadata": {},
   "outputs": [
    {
     "data": {
      "text/plain": [
       "{'book_time': datetime.datetime(2017, 11, 2, 18, 52, 2, 312000),\n",
       " 'exp_key': None,\n",
       " 'misc': {'cmd': ('domain_attachment', 'FMinIter_Domain'),\n",
       "  'idxs': {'initial_t': [65], 'learning_rate': [65], 'power_t': [65]},\n",
       "  'tid': 65,\n",
       "  'vals': {'initial_t': [0.8083671309918706],\n",
       "   'learning_rate': [1.763117182149858],\n",
       "   'power_t': [0.10174824581435331]},\n",
       "  'workdir': None},\n",
       " 'owner': None,\n",
       " 'refresh_time': datetime.datetime(2017, 11, 2, 18, 52, 17, 750000),\n",
       " 'result': {'loss': 0.8865221409722223, 'status': 'ok'},\n",
       " 'spec': None,\n",
       " 'state': 2,\n",
       " 'tid': 65,\n",
       " 'version': 0}"
      ]
     },
     "execution_count": 706,
     "metadata": {},
     "output_type": "execute_result"
    }
   ],
   "source": [
    "trials.best_trial"
   ]
  },
  {
   "cell_type": "code",
   "execution_count": 707,
   "metadata": {
    "collapsed": true
   },
   "outputs": [],
   "source": [
    "best_results[6] = trials.best_trial"
   ]
  },
  {
   "cell_type": "code",
   "execution_count": 708,
   "metadata": {
    "scrolled": true
   },
   "outputs": [
    {
     "data": {
      "text/plain": [
       "{1: {'book_time': datetime.datetime(2017, 11, 2, 12, 51, 10, 919000),\n",
       "  'exp_key': None,\n",
       "  'misc': {'cmd': ('domain_attachment', 'FMinIter_Domain'),\n",
       "   'idxs': {'l': [7], 'power_t': [7]},\n",
       "   'tid': 7,\n",
       "   'vals': {'l': [0.20252062086232894], 'power_t': [0.270693419194566]},\n",
       "   'workdir': None},\n",
       "  'owner': None,\n",
       "  'refresh_time': datetime.datetime(2017, 11, 2, 12, 51, 14, 183000),\n",
       "  'result': {'loss': 0.9325812230277776, 'status': 'ok'},\n",
       "  'spec': None,\n",
       "  'state': 2,\n",
       "  'tid': 7,\n",
       "  'version': 0},\n",
       " 2: {'book_time': datetime.datetime(2017, 11, 2, 13, 46, 1, 740000),\n",
       "  'exp_key': None,\n",
       "  'misc': {'cmd': ('domain_attachment', 'FMinIter_Domain'),\n",
       "   'idxs': {'initial_t': [11], 'l': [11], 'power_t': [11]},\n",
       "   'tid': 11,\n",
       "   'vals': {'initial_t': [0.048500245470919356],\n",
       "    'l': [0.1889127730045205],\n",
       "    'power_t': [0.19809558558023838]},\n",
       "   'workdir': None},\n",
       "  'owner': None,\n",
       "  'refresh_time': datetime.datetime(2017, 11, 2, 13, 46, 5, 89000),\n",
       "  'result': {'loss': 0.9304649387222222, 'status': 'ok'},\n",
       "  'spec': None,\n",
       "  'state': 2,\n",
       "  'tid': 11,\n",
       "  'version': 0},\n",
       " 3: {'book_time': datetime.datetime(2017, 11, 2, 14, 4, 16, 536000),\n",
       "  'exp_key': None,\n",
       "  'misc': {'cmd': ('domain_attachment', 'FMinIter_Domain'),\n",
       "   'idxs': {'initial_t': [92], 'l': [92], 'power_t': [92]},\n",
       "   'tid': 92,\n",
       "   'vals': {'initial_t': [0.07866570323626951],\n",
       "    'l': [0.16253628266990353],\n",
       "    'power_t': [0.15670437316277552]},\n",
       "   'workdir': None},\n",
       "  'owner': None,\n",
       "  'refresh_time': datetime.datetime(2017, 11, 2, 14, 4, 19, 979000),\n",
       "  'result': {'loss': 0.9299008990000001, 'status': 'ok'},\n",
       "  'spec': None,\n",
       "  'state': 2,\n",
       "  'tid': 92,\n",
       "  'version': 0},\n",
       " 4: {'book_time': datetime.datetime(2017, 11, 2, 15, 59, 42, 477000),\n",
       "  'exp_key': None,\n",
       "  'misc': {'cmd': ('domain_attachment', 'FMinIter_Domain'),\n",
       "   'idxs': {'--learning_rate': [62], 'initial_t': [62], 'power_t': [62]},\n",
       "   'tid': 62,\n",
       "   'vals': {'--learning_rate': [0.19429722438207644],\n",
       "    'initial_t': [0.38906999500560485],\n",
       "    'power_t': [0.1460283361704552]},\n",
       "   'workdir': None},\n",
       "  'owner': None,\n",
       "  'refresh_time': datetime.datetime(2017, 11, 2, 15, 59, 47, 574000),\n",
       "  'result': {'loss': 0.9256804687499999, 'status': 'ok'},\n",
       "  'spec': None,\n",
       "  'state': 2,\n",
       "  'tid': 62,\n",
       "  'version': 0},\n",
       " 5: {'book_time': datetime.datetime(2017, 11, 2, 17, 14, 43, 897000),\n",
       "  'exp_key': None,\n",
       "  'misc': {'cmd': ('domain_attachment', 'FMinIter_Domain'),\n",
       "   'idxs': {'--learning_rate': [23], 'initial_t': [23], 'power_t': [23]},\n",
       "   'tid': 23,\n",
       "   'vals': {'--learning_rate': [0.9941366412229297],\n",
       "    'initial_t': [0.5017722953491139],\n",
       "    'power_t': [0.11280499415791097]},\n",
       "   'workdir': None},\n",
       "  'owner': None,\n",
       "  'refresh_time': datetime.datetime(2017, 11, 2, 17, 14, 55, 229000),\n",
       "  'result': {'loss': 0.8872738187777777, 'status': 'ok'},\n",
       "  'spec': None,\n",
       "  'state': 2,\n",
       "  'tid': 23,\n",
       "  'version': 0},\n",
       " 6: {'book_time': datetime.datetime(2017, 11, 2, 18, 52, 2, 312000),\n",
       "  'exp_key': None,\n",
       "  'misc': {'cmd': ('domain_attachment', 'FMinIter_Domain'),\n",
       "   'idxs': {'initial_t': [65], 'learning_rate': [65], 'power_t': [65]},\n",
       "   'tid': 65,\n",
       "   'vals': {'initial_t': [0.8083671309918706],\n",
       "    'learning_rate': [1.763117182149858],\n",
       "    'power_t': [0.10174824581435331]},\n",
       "   'workdir': None},\n",
       "  'owner': None,\n",
       "  'refresh_time': datetime.datetime(2017, 11, 2, 18, 52, 17, 750000),\n",
       "  'result': {'loss': 0.8865221409722223, 'status': 'ok'},\n",
       "  'spec': None,\n",
       "  'state': 2,\n",
       "  'tid': 65,\n",
       "  'version': 0}}"
      ]
     },
     "execution_count": 708,
     "metadata": {},
     "output_type": "execute_result"
    }
   ],
   "source": [
    "best_results"
   ]
  },
  {
   "cell_type": "code",
   "execution_count": 709,
   "metadata": {},
   "outputs": [
    {
     "data": {
      "text/plain": [
       "{'initial_t': 0.8083671309918706,\n",
       " 'learning_rate': 1.763117182149858,\n",
       " 'power_t': 0.10174824581435331}"
      ]
     },
     "execution_count": 709,
     "metadata": {},
     "output_type": "execute_result"
    }
   ],
   "source": [
    "trials.argmin"
   ]
  },
  {
   "cell_type": "markdown",
   "metadata": {},
   "source": [
    "## Контрольная проверка перед формированием submission"
   ]
  },
  {
   "cell_type": "code",
   "execution_count": 710,
   "metadata": {},
   "outputs": [
    {
     "data": {
      "text/plain": [
       "0.88652214097222226"
      ]
     },
     "execution_count": 710,
     "metadata": {},
     "output_type": "execute_result"
    }
   ],
   "source": [
    "# обучаем\n",
    "!vw \\\n",
    "-d ../../../data/habr_work_train.vw \\\n",
    "-f ../../../data/habr_model.vw \\\n",
    "-c \\\n",
    "--passes 5 \\\n",
    "-k \\\n",
    "--loss_function squared \\\n",
    "--learning_rate {trials.argmin['learning_rate']} \\\n",
    "--power_t {trials.argmin['power_t']} \\\n",
    "--ngram 2 \\\n",
    "--initial_t {trials.argmin['initial_t']} \\\n",
    "-b 26 \\\n",
    "--random_seed=17 \\\n",
    "--quiet\n",
    "\n",
    "# применяем на валидационной\n",
    "!vw \\\n",
    "-i ../../../data/habr_model.vw -t \\\n",
    "-d ../../../data/habr_work_valid.vw \\\n",
    "-p ../../../data/habr_work_valid_predictions.txt \\\n",
    "--quiet\n",
    "\n",
    "# scoring\n",
    "valid_predictions = np.loadtxt('../../../data/habr_work_valid_predictions.txt')\n",
    "score_MAE = mean_absolute_error(valid_vals, valid_predictions)\n",
    "score_MAE\n",
    "\n",
    "# 5 проходов\n",
    "# -b 26\n",
    "# --ngram 2 (как и 3)"
   ]
  },
  {
   "cell_type": "markdown",
   "metadata": {},
   "source": [
    "# Блок предсказания на ТЕСТЕ и формирования submission"
   ]
  },
  {
   "cell_type": "markdown",
   "metadata": {},
   "source": [
    "Обучим модель на ПОЛНОЙ обучающей выборке с определенными наилучшими параметрами"
   ]
  },
  {
   "cell_type": "code",
   "execution_count": 711,
   "metadata": {
    "collapsed": true
   },
   "outputs": [],
   "source": [
    "!vw \\\n",
    "-d ../../../data/habr_train.vw \\\n",
    "-f ../../../data/habr_model.vw \\\n",
    "-c \\\n",
    "--passes 5 \\\n",
    "-k \\\n",
    "--loss_function squared \\\n",
    "--learning_rate {trials.argmin['learning_rate']} \\\n",
    "--power_t {trials.argmin['power_t']} \\\n",
    "--ngram 2 \\\n",
    "--initial_t {trials.argmin['initial_t']} \\\n",
    "-b 26 \\\n",
    "--random_seed=17 \\\n",
    "--quiet"
   ]
  },
  {
   "cell_type": "markdown",
   "metadata": {
    "collapsed": true
   },
   "source": [
    "Модель обучена.  Применим обученную модель на ТЕСТОВОЙ выборке, сохраняя предсказания в файл с помощью опции -p:"
   ]
  },
  {
   "cell_type": "code",
   "execution_count": 712,
   "metadata": {
    "collapsed": true
   },
   "outputs": [],
   "source": [
    "!vw \\\n",
    "-i ../../../data/habr_model.vw \\\n",
    "-t -d ../../../data/habr_test.vw \\\n",
    "-p ../../../data/habr_test_predictions.txt \\\n",
    "--quiet"
   ]
  },
  {
   "cell_type": "code",
   "execution_count": 713,
   "metadata": {
    "scrolled": true
   },
   "outputs": [
    {
     "data": {
      "text/html": [
       "<div>\n",
       "<style>\n",
       "    .dataframe thead tr:only-child th {\n",
       "        text-align: right;\n",
       "    }\n",
       "\n",
       "    .dataframe thead th {\n",
       "        text-align: left;\n",
       "    }\n",
       "\n",
       "    .dataframe tbody tr th {\n",
       "        vertical-align: top;\n",
       "    }\n",
       "</style>\n",
       "<table border=\"1\" class=\"dataframe\">\n",
       "  <thead>\n",
       "    <tr style=\"text-align: right;\">\n",
       "      <th></th>\n",
       "      <th>target</th>\n",
       "    </tr>\n",
       "    <tr>\n",
       "      <th>url</th>\n",
       "      <th></th>\n",
       "    </tr>\n",
       "  </thead>\n",
       "  <tbody>\n",
       "    <tr>\n",
       "      <th>https://geektimes.ru/post/87455/</th>\n",
       "      <td>11.620054</td>\n",
       "    </tr>\n",
       "    <tr>\n",
       "      <th>https://geektimes.ru/post/87452/</th>\n",
       "      <td>4.822528</td>\n",
       "    </tr>\n",
       "    <tr>\n",
       "      <th>https://geektimes.ru/post/87459/</th>\n",
       "      <td>0.921104</td>\n",
       "    </tr>\n",
       "    <tr>\n",
       "      <th>https://habrahabr.ru/post/87461/</th>\n",
       "      <td>1.632126</td>\n",
       "    </tr>\n",
       "    <tr>\n",
       "      <th>https://habrahabr.ru/post/5754/</th>\n",
       "      <td>1.952122</td>\n",
       "    </tr>\n",
       "  </tbody>\n",
       "</table>\n",
       "</div>"
      ],
      "text/plain": [
       "                                     target\n",
       "url                                        \n",
       "https://geektimes.ru/post/87455/  11.620054\n",
       "https://geektimes.ru/post/87452/   4.822528\n",
       "https://geektimes.ru/post/87459/   0.921104\n",
       "https://habrahabr.ru/post/87461/   1.632126\n",
       "https://habrahabr.ru/post/5754/    1.952122"
      ]
     },
     "execution_count": 713,
     "metadata": {},
     "output_type": "execute_result"
    }
   ],
   "source": [
    "sample_sub = pd.read_csv('../../../data/sample_submission.csv', \n",
    "                         index_col='url')\n",
    "sample_sub.head()"
   ]
  },
  {
   "cell_type": "code",
   "execution_count": 714,
   "metadata": {},
   "outputs": [
    {
     "data": {
      "text/html": [
       "<div>\n",
       "<style>\n",
       "    .dataframe thead tr:only-child th {\n",
       "        text-align: right;\n",
       "    }\n",
       "\n",
       "    .dataframe thead th {\n",
       "        text-align: left;\n",
       "    }\n",
       "\n",
       "    .dataframe tbody tr th {\n",
       "        vertical-align: top;\n",
       "    }\n",
       "</style>\n",
       "<table border=\"1\" class=\"dataframe\">\n",
       "  <thead>\n",
       "    <tr style=\"text-align: right;\">\n",
       "      <th></th>\n",
       "      <th>target</th>\n",
       "    </tr>\n",
       "  </thead>\n",
       "  <tbody>\n",
       "    <tr>\n",
       "      <th>0</th>\n",
       "      <td>1.214495</td>\n",
       "    </tr>\n",
       "    <tr>\n",
       "      <th>1</th>\n",
       "      <td>3.255367</td>\n",
       "    </tr>\n",
       "    <tr>\n",
       "      <th>2</th>\n",
       "      <td>0.828338</td>\n",
       "    </tr>\n",
       "    <tr>\n",
       "      <th>3</th>\n",
       "      <td>3.264878</td>\n",
       "    </tr>\n",
       "    <tr>\n",
       "      <th>4</th>\n",
       "      <td>0.140983</td>\n",
       "    </tr>\n",
       "  </tbody>\n",
       "</table>\n",
       "</div>"
      ],
      "text/plain": [
       "     target\n",
       "0  1.214495\n",
       "1  3.255367\n",
       "2  0.828338\n",
       "3  3.264878\n",
       "4  0.140983"
      ]
     },
     "execution_count": 714,
     "metadata": {},
     "output_type": "execute_result"
    }
   ],
   "source": [
    "your_test_predictions = pd.read_csv('../../../data/habr_test_predictions.txt', header=None)\n",
    "your_test_predictions.columns = ['target']\n",
    "your_test_predictions.head()"
   ]
  },
  {
   "cell_type": "code",
   "execution_count": 715,
   "metadata": {},
   "outputs": [
    {
     "data": {
      "text/html": [
       "<div>\n",
       "<style>\n",
       "    .dataframe thead tr:only-child th {\n",
       "        text-align: right;\n",
       "    }\n",
       "\n",
       "    .dataframe thead th {\n",
       "        text-align: left;\n",
       "    }\n",
       "\n",
       "    .dataframe tbody tr th {\n",
       "        vertical-align: top;\n",
       "    }\n",
       "</style>\n",
       "<table border=\"1\" class=\"dataframe\">\n",
       "  <thead>\n",
       "    <tr style=\"text-align: right;\">\n",
       "      <th></th>\n",
       "      <th>target</th>\n",
       "    </tr>\n",
       "    <tr>\n",
       "      <th>url</th>\n",
       "      <th></th>\n",
       "    </tr>\n",
       "  </thead>\n",
       "  <tbody>\n",
       "    <tr>\n",
       "      <th>https://geektimes.ru/post/87455/</th>\n",
       "      <td>1.214495</td>\n",
       "    </tr>\n",
       "    <tr>\n",
       "      <th>https://geektimes.ru/post/87452/</th>\n",
       "      <td>3.255367</td>\n",
       "    </tr>\n",
       "    <tr>\n",
       "      <th>https://geektimes.ru/post/87459/</th>\n",
       "      <td>0.828338</td>\n",
       "    </tr>\n",
       "    <tr>\n",
       "      <th>https://habrahabr.ru/post/87461/</th>\n",
       "      <td>3.264878</td>\n",
       "    </tr>\n",
       "    <tr>\n",
       "      <th>https://habrahabr.ru/post/5754/</th>\n",
       "      <td>0.140983</td>\n",
       "    </tr>\n",
       "  </tbody>\n",
       "</table>\n",
       "</div>"
      ],
      "text/plain": [
       "                                    target\n",
       "url                                       \n",
       "https://geektimes.ru/post/87455/  1.214495\n",
       "https://geektimes.ru/post/87452/  3.255367\n",
       "https://geektimes.ru/post/87459/  0.828338\n",
       "https://habrahabr.ru/post/87461/  3.264878\n",
       "https://habrahabr.ru/post/5754/   0.140983"
      ]
     },
     "execution_count": 715,
     "metadata": {},
     "output_type": "execute_result"
    }
   ],
   "source": [
    "your_submission = sample_sub.copy()\n",
    "your_test_predictions.index = your_submission.index\n",
    "your_submission['target'] = your_test_predictions['target']\n",
    "your_submission.to_csv('../../../data/submission.csv')\n",
    "\n",
    "your_submission.head()"
   ]
  },
  {
   "cell_type": "markdown",
   "metadata": {
    "collapsed": true
   },
   "source": [
    "Для получения баллов в #mlcourse_open команда (из 1 человека) должна называться в точном соответствии с тем, как оно записано в рейтинге."
   ]
  }
 ],
 "metadata": {
  "kernelspec": {
   "display_name": "Python 3",
   "language": "python",
   "name": "python3"
  },
  "language_info": {
   "codemirror_mode": {
    "name": "ipython",
    "version": 3
   },
   "file_extension": ".py",
   "mimetype": "text/x-python",
   "name": "python",
   "nbconvert_exporter": "python",
   "pygments_lexer": "ipython3",
   "version": "3.6.1"
  }
 },
 "nbformat": 4,
 "nbformat_minor": 2
}
