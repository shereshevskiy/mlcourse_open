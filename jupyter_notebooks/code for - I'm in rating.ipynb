{
 "cells": [
  {
   "cell_type": "code",
   "execution_count": 3,
   "metadata": {},
   "outputs": [
    {
     "data": {
      "text/html": [
       "<div>\n",
       "<style>\n",
       "    .dataframe thead tr:only-child th {\n",
       "        text-align: right;\n",
       "    }\n",
       "\n",
       "    .dataframe thead th {\n",
       "        text-align: left;\n",
       "    }\n",
       "\n",
       "    .dataframe tbody tr th {\n",
       "        vertical-align: top;\n",
       "    }\n",
       "</style>\n",
       "<table border=\"1\" class=\"dataframe\">\n",
       "  <thead>\n",
       "    <tr style=\"text-align: right;\">\n",
       "      <th></th>\n",
       "      <th>ФИО</th>\n",
       "      <th>ДЗ1</th>\n",
       "      <th>ДЗ2</th>\n",
       "      <th>ДЗ3</th>\n",
       "      <th>ДЗ4</th>\n",
       "      <th>ДЗ5</th>\n",
       "      <th>ДЗ6</th>\n",
       "      <th>ДЗ7</th>\n",
       "      <th>ДЗ8</th>\n",
       "      <th>#vis1</th>\n",
       "      <th>#vis2</th>\n",
       "      <th>kaggle</th>\n",
       "      <th>arktur</th>\n",
       "      <th>proj_ind</th>\n",
       "      <th>proj_alice</th>\n",
       "      <th>tutorials</th>\n",
       "      <th>ИТОГ</th>\n",
       "    </tr>\n",
       "  </thead>\n",
       "  <tbody>\n",
       "    <tr>\n",
       "      <th>0</th>\n",
       "      <td>Шерешевский Дмитрий Изяславович</td>\n",
       "      <td>10</td>\n",
       "      <td>10</td>\n",
       "      <td>10</td>\n",
       "      <td>20</td>\n",
       "      <td>NaN</td>\n",
       "      <td>NaN</td>\n",
       "      <td>NaN</td>\n",
       "      <td>NaN</td>\n",
       "      <td>NaN</td>\n",
       "      <td>NaN</td>\n",
       "      <td>NaN</td>\n",
       "      <td>NaN</td>\n",
       "      <td>NaN</td>\n",
       "      <td>NaN</td>\n",
       "      <td>NaN</td>\n",
       "      <td>50</td>\n",
       "    </tr>\n",
       "  </tbody>\n",
       "</table>\n",
       "</div>"
      ],
      "text/plain": [
       "                               ФИО  ДЗ1  ДЗ2  ДЗ3  ДЗ4  ДЗ5  ДЗ6  ДЗ7  ДЗ8  \\\n",
       "0  Шерешевский Дмитрий Изяславович   10   10   10   20  NaN  NaN  NaN  NaN   \n",
       "\n",
       "   #vis1  #vis2  kaggle  arktur  proj_ind  proj_alice  tutorials  ИТОГ  \n",
       "0    NaN    NaN     NaN     NaN       NaN         NaN        NaN    50  "
      ]
     },
     "execution_count": 3,
     "metadata": {},
     "output_type": "execute_result"
    }
   ],
   "source": [
    "from urllib.parse import urlencode, quote_plus\n",
    "import requests\n",
    "base_url=\"https://docs.google.com/spreadsheets/d\"\n",
    "sheet_key=\"1NSdcHzMy_KoFx6hSZUuXUTwW5X6xsFY-POW2wQ4jjjs\"\n",
    "sheet_id=\"1465042576\"\n",
    "service=\"gviz/tq?\"\n",
    "query=\"select * where A='Шерешевский Дмитрий Изяславович'\"\n",
    "\n",
    "payload = {'tqx':'out:csv',\n",
    "           'sheet':sheet_id,\n",
    "           'tq':query}\n",
    "encoded = urlencode(payload, quote_via=quote_plus)\n",
    "sheet_url = \"/\".join([base_url,sheet_key,service]) + encoded\n",
    "\n",
    "#print (sheet_url)\n",
    "r = requests.get(url=sheet_url)\n",
    "#print(r.text)\n",
    "\n",
    "from io import StringIO\n",
    "import pandas as pd\n",
    "pd.read_csv(StringIO(r.text))"
   ]
  },
  {
   "cell_type": "code",
   "execution_count": null,
   "metadata": {
    "collapsed": true
   },
   "outputs": [],
   "source": []
  }
 ],
 "metadata": {
  "kernelspec": {
   "display_name": "Python 3",
   "language": "python",
   "name": "python3"
  },
  "language_info": {
   "codemirror_mode": {
    "name": "ipython",
    "version": 3
   },
   "file_extension": ".py",
   "mimetype": "text/x-python",
   "name": "python",
   "nbconvert_exporter": "python",
   "pygments_lexer": "ipython3",
   "version": "3.6.1"
  }
 },
 "nbformat": 4,
 "nbformat_minor": 2
}
