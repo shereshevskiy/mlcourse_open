{
 "cells": [
  {
   "cell_type": "markdown",
   "metadata": {},
   "source": [
    "<center>\n",
    "<img src=\"../../img/ods_stickers.jpg\">\n",
    "## Открытый курс по машинному обучению. Сессия № 2\n",
    "Автор материала: программист-исследователь Mail.ru Group, старший преподаватель Факультета Компьютерных Наук ВШЭ Юрий Кашницкий. Материал распространяется на условиях лицензии [Creative Commons CC BY-NC-SA 4.0](https://creativecommons.org/licenses/by-nc-sa/4.0/). Можно использовать в любых целях (редактировать, поправлять и брать за основу), кроме коммерческих, но с обязательным упоминанием автора материала."
   ]
  },
  {
   "cell_type": "markdown",
   "metadata": {},
   "source": [
    "# <center>Домашнее задание № 10\n",
    "## <center> Часть 4. Оценка важности признаков с Xgboost\n",
    "\n",
    "## <center> Прогнозирование задержек вылетов\n",
    "\n",
    "Ваша задача – побить как минимум 2 бенчмарка в [соревновании](https://www.kaggle.com/c/flight-delays-2017) на Kaggle Inclass. Подробных инструкций не будет, будет только тезисно описано, как получен второй – с помощью Xgboost. Надеюсь, на данном этапе курса вам достаточно бросить полтора взгляда на данные, чтоб понять, что это тот тип задачи, в которой затащит градиентный бустинг. Скорее всего Xgboost, но тут у нас еще немало категориальных признаков...\n",
    "\n",
    "<img src='../../img/xgboost_meme.jpg' width=40% />"
   ]
  },
  {
   "cell_type": "code",
   "execution_count": 1,
   "metadata": {
    "collapsed": true
   },
   "outputs": [],
   "source": [
    "import numpy as np\n",
    "import pandas as pd\n",
    "from sklearn.preprocessing import StandardScaler\n",
    "from sklearn.model_selection import train_test_split\n",
    "from sklearn.linear_model import LogisticRegression\n",
    "from xgboost import XGBClassifier\n",
    "from sklearn.metrics import roc_auc_score"
   ]
  },
  {
   "cell_type": "code",
   "execution_count": 2,
   "metadata": {
    "collapsed": true
   },
   "outputs": [],
   "source": [
    "from sklearn.model_selection import cross_val_score"
   ]
  },
  {
   "cell_type": "code",
   "execution_count": 66,
   "metadata": {
    "collapsed": true
   },
   "outputs": [],
   "source": [
    "train = pd.read_csv('../../data/flight_delays_train.csv')\n",
    "test = pd.read_csv('../../data/flight_delays_test.csv')"
   ]
  },
  {
   "cell_type": "code",
   "execution_count": 4,
   "metadata": {},
   "outputs": [
    {
     "data": {
      "text/html": [
       "<div>\n",
       "<style>\n",
       "    .dataframe thead tr:only-child th {\n",
       "        text-align: right;\n",
       "    }\n",
       "\n",
       "    .dataframe thead th {\n",
       "        text-align: left;\n",
       "    }\n",
       "\n",
       "    .dataframe tbody tr th {\n",
       "        vertical-align: top;\n",
       "    }\n",
       "</style>\n",
       "<table border=\"1\" class=\"dataframe\">\n",
       "  <thead>\n",
       "    <tr style=\"text-align: right;\">\n",
       "      <th></th>\n",
       "      <th>Month</th>\n",
       "      <th>DayofMonth</th>\n",
       "      <th>DayOfWeek</th>\n",
       "      <th>DepTime</th>\n",
       "      <th>UniqueCarrier</th>\n",
       "      <th>Origin</th>\n",
       "      <th>Dest</th>\n",
       "      <th>Distance</th>\n",
       "      <th>dep_delayed_15min</th>\n",
       "    </tr>\n",
       "  </thead>\n",
       "  <tbody>\n",
       "    <tr>\n",
       "      <th>0</th>\n",
       "      <td>c-8</td>\n",
       "      <td>c-21</td>\n",
       "      <td>c-7</td>\n",
       "      <td>1934</td>\n",
       "      <td>AA</td>\n",
       "      <td>ATL</td>\n",
       "      <td>DFW</td>\n",
       "      <td>732</td>\n",
       "      <td>N</td>\n",
       "    </tr>\n",
       "    <tr>\n",
       "      <th>1</th>\n",
       "      <td>c-4</td>\n",
       "      <td>c-20</td>\n",
       "      <td>c-3</td>\n",
       "      <td>1548</td>\n",
       "      <td>US</td>\n",
       "      <td>PIT</td>\n",
       "      <td>MCO</td>\n",
       "      <td>834</td>\n",
       "      <td>N</td>\n",
       "    </tr>\n",
       "    <tr>\n",
       "      <th>2</th>\n",
       "      <td>c-9</td>\n",
       "      <td>c-2</td>\n",
       "      <td>c-5</td>\n",
       "      <td>1422</td>\n",
       "      <td>XE</td>\n",
       "      <td>RDU</td>\n",
       "      <td>CLE</td>\n",
       "      <td>416</td>\n",
       "      <td>N</td>\n",
       "    </tr>\n",
       "    <tr>\n",
       "      <th>3</th>\n",
       "      <td>c-11</td>\n",
       "      <td>c-25</td>\n",
       "      <td>c-6</td>\n",
       "      <td>1015</td>\n",
       "      <td>OO</td>\n",
       "      <td>DEN</td>\n",
       "      <td>MEM</td>\n",
       "      <td>872</td>\n",
       "      <td>N</td>\n",
       "    </tr>\n",
       "    <tr>\n",
       "      <th>4</th>\n",
       "      <td>c-10</td>\n",
       "      <td>c-7</td>\n",
       "      <td>c-6</td>\n",
       "      <td>1828</td>\n",
       "      <td>WN</td>\n",
       "      <td>MDW</td>\n",
       "      <td>OMA</td>\n",
       "      <td>423</td>\n",
       "      <td>Y</td>\n",
       "    </tr>\n",
       "  </tbody>\n",
       "</table>\n",
       "</div>"
      ],
      "text/plain": [
       "  Month DayofMonth DayOfWeek  DepTime UniqueCarrier Origin Dest  Distance  \\\n",
       "0   c-8       c-21       c-7     1934            AA    ATL  DFW       732   \n",
       "1   c-4       c-20       c-3     1548            US    PIT  MCO       834   \n",
       "2   c-9        c-2       c-5     1422            XE    RDU  CLE       416   \n",
       "3  c-11       c-25       c-6     1015            OO    DEN  MEM       872   \n",
       "4  c-10        c-7       c-6     1828            WN    MDW  OMA       423   \n",
       "\n",
       "  dep_delayed_15min  \n",
       "0                 N  \n",
       "1                 N  \n",
       "2                 N  \n",
       "3                 N  \n",
       "4                 Y  "
      ]
     },
     "execution_count": 4,
     "metadata": {},
     "output_type": "execute_result"
    }
   ],
   "source": [
    "train.head()"
   ]
  },
  {
   "cell_type": "code",
   "execution_count": 5,
   "metadata": {},
   "outputs": [
    {
     "name": "stdout",
     "output_type": "stream",
     "text": [
      "<class 'pandas.core.frame.DataFrame'>\n",
      "RangeIndex: 100000 entries, 0 to 99999\n",
      "Data columns (total 9 columns):\n",
      "Month                100000 non-null object\n",
      "DayofMonth           100000 non-null object\n",
      "DayOfWeek            100000 non-null object\n",
      "DepTime              100000 non-null int64\n",
      "UniqueCarrier        100000 non-null object\n",
      "Origin               100000 non-null object\n",
      "Dest                 100000 non-null object\n",
      "Distance             100000 non-null int64\n",
      "dep_delayed_15min    100000 non-null object\n",
      "dtypes: int64(2), object(7)\n",
      "memory usage: 6.9+ MB\n"
     ]
    }
   ],
   "source": [
    "train.info()"
   ]
  },
  {
   "cell_type": "code",
   "execution_count": 6,
   "metadata": {},
   "outputs": [
    {
     "data": {
      "text/plain": [
       "Month                object\n",
       "DayofMonth           object\n",
       "DayOfWeek            object\n",
       "DepTime               int64\n",
       "UniqueCarrier        object\n",
       "Origin               object\n",
       "Dest                 object\n",
       "Distance              int64\n",
       "dep_delayed_15min    object\n",
       "dtype: object"
      ]
     },
     "execution_count": 6,
     "metadata": {},
     "output_type": "execute_result"
    }
   ],
   "source": [
    "train.dtypes"
   ]
  },
  {
   "cell_type": "markdown",
   "metadata": {},
   "source": [
    "Итак, надо по времени вылета самолета, коду авиакомпании-перевозчика, месту вылета и прилета и расстоянию между аэропортами вылета и прилета предсказать задержку вылета более 15 минут. В качестве простейшего бенчмарка возьмем логистическую регрессию и два признака, которые проще всего взять: `DepTime` и `Distance`. У такой модели результат – 0.68202 на LB. "
   ]
  },
  {
   "cell_type": "code",
   "execution_count": 7,
   "metadata": {},
   "outputs": [
    {
     "name": "stderr",
     "output_type": "stream",
     "text": [
      "C:\\ProgramData\\Anaconda3\\lib\\site-packages\\sklearn\\utils\\validation.py:429: DataConversionWarning: Data with input dtype int64 was converted to float64 by StandardScaler.\n",
      "  warnings.warn(msg, _DataConversionWarning)\n"
     ]
    }
   ],
   "source": [
    "X_train, y_train = train[['Distance', 'DepTime']].values, train['dep_delayed_15min'].map({'Y': 1, 'N': 0}).values\n",
    "X_test = test[['Distance', 'DepTime']].values\n",
    "\n",
    "X_train_part, X_valid, y_train_part, y_valid = train_test_split(X_train, y_train, test_size=0.3, random_state=17)\n",
    "\n",
    "scaler = StandardScaler()\n",
    "X_train_part = scaler.fit_transform(X_train_part)\n",
    "X_valid = scaler.transform(X_valid)"
   ]
  },
  {
   "cell_type": "code",
   "execution_count": 8,
   "metadata": {},
   "outputs": [
    {
     "data": {
      "text/plain": [
       "0.67956914653526068"
      ]
     },
     "execution_count": 8,
     "metadata": {},
     "output_type": "execute_result"
    }
   ],
   "source": [
    "logit = LogisticRegression()\n",
    "\n",
    "logit.fit(X_train_part, y_train_part)\n",
    "logit_valid_pred = logit.predict_proba(X_valid)[:, 1]\n",
    "\n",
    "roc_auc_score(y_valid, logit_valid_pred)"
   ]
  },
  {
   "cell_type": "code",
   "execution_count": 9,
   "metadata": {},
   "outputs": [
    {
     "name": "stderr",
     "output_type": "stream",
     "text": [
      "C:\\ProgramData\\Anaconda3\\lib\\site-packages\\sklearn\\utils\\validation.py:429: DataConversionWarning: Data with input dtype int64 was converted to float64 by StandardScaler.\n",
      "  warnings.warn(msg, _DataConversionWarning)\n"
     ]
    }
   ],
   "source": [
    "X_train_scaled = scaler.fit_transform(X_train)\n",
    "X_test_scaled = scaler.transform(X_test)\n",
    "\n",
    "logit.fit(X_train_scaled, y_train)\n",
    "logit_test_pred = logit.predict_proba(X_test_scaled)[:, 1]\n",
    "\n",
    "pd.Series(logit_test_pred, name='dep_delayed_15min').to_csv('data/logit_2feat.csv', index_label='id', header=True)"
   ]
  },
  {
   "cell_type": "markdown",
   "metadata": {},
   "source": [
    "Второй бенчмарк, представленный в рейтинге соревнования, был получен так:\n",
    "- Признаки `Distance` и  `DepTime` брались без изменений\n",
    "- Создан признак \"маршрут\" из исходных `Origin` и `Dest`\n",
    "- К признакам `Month`, `DayofMonth`, `DayOfWeek`, `UniqueCarrier` и \"маршрут\" применено OHE-преобразование (`LabelBinarizer`)\n",
    "- Выделена отложенная выборка\n",
    "- Обучалась логистическая регрессия и градиентный бустинг (xgboost), гиперпараметры бустинга настраивались на кросс-валидации, сначала те, что отвечают за сложность модели, затем число деревьев фиксировалось равным 500 и настраивался шаг градиентного спуска\n",
    "- С помощью `cross_val_predict` делались прогнозы обеих моделей на кросс-валидации (именно предсказанные вероятности), настраивалась линейная смесь ответов логистической регрессии и градиентного бустинга вида $w_1 * p_{logit} + (1 - w_1) * p_{xgb}$, где $p_{logit}$ – предсказанные логистической регрессией вероятности класса 1, $p_{xgb}$ – аналогично. Вес $w_1$ подбирался вручную. \n",
    "- В качестве ответа для тестовой выборки бралась аналогичная комбинация ответов двух моделей, но уже обученных на всей обучающей выборке.\n",
    "\n",
    "Описанный план ни к чему не обязывает – это просто то, как решение получил автор задания. Возможно, вы не захотите следовать намеченному плану, а добавите, скажем, пару хороших признаков и обучите лес из тысячи деревьев.\n",
    "\n",
    "Удачи!"
   ]
  },
  {
   "cell_type": "markdown",
   "metadata": {},
   "source": [
    "# <center>Оценка важности признаков с Xgboost\n",
    "### <center>Работаем со стандартным интерфейсом"
   ]
  },
  {
   "cell_type": "code",
   "execution_count": 1,
   "metadata": {
    "collapsed": true
   },
   "outputs": [],
   "source": [
    "%matplotlib inline\n",
    "from matplotlib import pyplot as plt\n",
    "import pandas as pd\n",
    "import numpy as np\n",
    "import seaborn as sns\n",
    "sns.set(font_scale = 1.5)\n",
    "from sklearn.preprocessing import LabelEncoder\n",
    "from sklearn.model_selection import train_test_split\n",
    "from sklearn.metrics import accuracy_score, f1_score\n",
    "import xgboost as xgb"
   ]
  },
  {
   "cell_type": "code",
   "execution_count": 2,
   "metadata": {
    "collapsed": true
   },
   "outputs": [],
   "source": [
    "from sklearn.metrics import roc_auc_score"
   ]
  },
  {
   "cell_type": "code",
   "execution_count": 3,
   "metadata": {
    "collapsed": true
   },
   "outputs": [],
   "source": [
    "train = pd.read_csv('../../data/flight_delays_train.csv')\n",
    "test = pd.read_csv('../../data/flight_delays_test.csv')"
   ]
  },
  {
   "cell_type": "code",
   "execution_count": 4,
   "metadata": {},
   "outputs": [
    {
     "data": {
      "text/html": [
       "<div>\n",
       "<style>\n",
       "    .dataframe thead tr:only-child th {\n",
       "        text-align: right;\n",
       "    }\n",
       "\n",
       "    .dataframe thead th {\n",
       "        text-align: left;\n",
       "    }\n",
       "\n",
       "    .dataframe tbody tr th {\n",
       "        vertical-align: top;\n",
       "    }\n",
       "</style>\n",
       "<table border=\"1\" class=\"dataframe\">\n",
       "  <thead>\n",
       "    <tr style=\"text-align: right;\">\n",
       "      <th></th>\n",
       "      <th>Month</th>\n",
       "      <th>DayofMonth</th>\n",
       "      <th>DayOfWeek</th>\n",
       "      <th>DepTime</th>\n",
       "      <th>UniqueCarrier</th>\n",
       "      <th>Origin</th>\n",
       "      <th>Dest</th>\n",
       "      <th>Distance</th>\n",
       "      <th>dep_delayed_15min</th>\n",
       "    </tr>\n",
       "  </thead>\n",
       "  <tbody>\n",
       "    <tr>\n",
       "      <th>0</th>\n",
       "      <td>c-8</td>\n",
       "      <td>c-21</td>\n",
       "      <td>c-7</td>\n",
       "      <td>1934</td>\n",
       "      <td>AA</td>\n",
       "      <td>ATL</td>\n",
       "      <td>DFW</td>\n",
       "      <td>732</td>\n",
       "      <td>N</td>\n",
       "    </tr>\n",
       "    <tr>\n",
       "      <th>1</th>\n",
       "      <td>c-4</td>\n",
       "      <td>c-20</td>\n",
       "      <td>c-3</td>\n",
       "      <td>1548</td>\n",
       "      <td>US</td>\n",
       "      <td>PIT</td>\n",
       "      <td>MCO</td>\n",
       "      <td>834</td>\n",
       "      <td>N</td>\n",
       "    </tr>\n",
       "    <tr>\n",
       "      <th>2</th>\n",
       "      <td>c-9</td>\n",
       "      <td>c-2</td>\n",
       "      <td>c-5</td>\n",
       "      <td>1422</td>\n",
       "      <td>XE</td>\n",
       "      <td>RDU</td>\n",
       "      <td>CLE</td>\n",
       "      <td>416</td>\n",
       "      <td>N</td>\n",
       "    </tr>\n",
       "    <tr>\n",
       "      <th>3</th>\n",
       "      <td>c-11</td>\n",
       "      <td>c-25</td>\n",
       "      <td>c-6</td>\n",
       "      <td>1015</td>\n",
       "      <td>OO</td>\n",
       "      <td>DEN</td>\n",
       "      <td>MEM</td>\n",
       "      <td>872</td>\n",
       "      <td>N</td>\n",
       "    </tr>\n",
       "    <tr>\n",
       "      <th>4</th>\n",
       "      <td>c-10</td>\n",
       "      <td>c-7</td>\n",
       "      <td>c-6</td>\n",
       "      <td>1828</td>\n",
       "      <td>WN</td>\n",
       "      <td>MDW</td>\n",
       "      <td>OMA</td>\n",
       "      <td>423</td>\n",
       "      <td>Y</td>\n",
       "    </tr>\n",
       "  </tbody>\n",
       "</table>\n",
       "</div>"
      ],
      "text/plain": [
       "  Month DayofMonth DayOfWeek  DepTime UniqueCarrier Origin Dest  Distance  \\\n",
       "0   c-8       c-21       c-7     1934            AA    ATL  DFW       732   \n",
       "1   c-4       c-20       c-3     1548            US    PIT  MCO       834   \n",
       "2   c-9        c-2       c-5     1422            XE    RDU  CLE       416   \n",
       "3  c-11       c-25       c-6     1015            OO    DEN  MEM       872   \n",
       "4  c-10        c-7       c-6     1828            WN    MDW  OMA       423   \n",
       "\n",
       "  dep_delayed_15min  \n",
       "0                 N  \n",
       "1                 N  \n",
       "2                 N  \n",
       "3                 N  \n",
       "4                 Y  "
      ]
     },
     "execution_count": 4,
     "metadata": {},
     "output_type": "execute_result"
    }
   ],
   "source": [
    "train.head()"
   ]
  },
  {
   "cell_type": "markdown",
   "metadata": {},
   "source": [
    "Перекодируем данные для использования в xgboost"
   ]
  },
  {
   "cell_type": "code",
   "execution_count": 5,
   "metadata": {
    "collapsed": true
   },
   "outputs": [],
   "source": [
    "def feater_encoder(train, test):\n",
    "    '''\n",
    "    Возвращает перекодированные: train (без целевого признака), test и целевой признак y_train\n",
    "    '''\n",
    "    \n",
    "    lab_enc = LabelEncoder()\n",
    "    \n",
    "    data = pd.concat([train.copy().drop('dep_delayed_15min', axis=1), test.copy()])\n",
    "    \n",
    "    data['Route'] = data['Origin'] + '-->' + data['Dest']\n",
    "    data['Month'] = lab_enc.fit_transform(data['Month'])\n",
    "    data['DayofMonth'] = lab_enc.fit_transform(data['DayofMonth'])\n",
    "    data['DayOfWeek'] = lab_enc.fit_transform(data['DayOfWeek'])\n",
    "    data['UniqueCarrier'] = lab_enc.fit_transform(data['UniqueCarrier'])\n",
    "    data['Origin'] = lab_enc.fit_transform(data['Origin'])\n",
    "    data['Dest'] = lab_enc.fit_transform(data['Dest'])\n",
    "    data['Route'] = lab_enc.fit_transform(data['Route'])\n",
    "    #data['DepTime'] = data['DepTime'] // 100    # результат не улучшают\n",
    "    y_train = train['dep_delayed_15min'].map({'Y':1, 'N':0})\n",
    "    \n",
    "    return data[:train.shape[0]], data[train.shape[0]:], y_train"
   ]
  },
  {
   "cell_type": "code",
   "execution_count": 6,
   "metadata": {
    "collapsed": true
   },
   "outputs": [],
   "source": [
    "X_train, X_test, y_train = feater_encoder(train, test)"
   ]
  },
  {
   "cell_type": "code",
   "execution_count": 7,
   "metadata": {},
   "outputs": [
    {
     "data": {
      "text/html": [
       "<div>\n",
       "<style>\n",
       "    .dataframe thead tr:only-child th {\n",
       "        text-align: right;\n",
       "    }\n",
       "\n",
       "    .dataframe thead th {\n",
       "        text-align: left;\n",
       "    }\n",
       "\n",
       "    .dataframe tbody tr th {\n",
       "        vertical-align: top;\n",
       "    }\n",
       "</style>\n",
       "<table border=\"1\" class=\"dataframe\">\n",
       "  <thead>\n",
       "    <tr style=\"text-align: right;\">\n",
       "      <th></th>\n",
       "      <th>Month</th>\n",
       "      <th>DayofMonth</th>\n",
       "      <th>DayOfWeek</th>\n",
       "      <th>DepTime</th>\n",
       "      <th>UniqueCarrier</th>\n",
       "      <th>Origin</th>\n",
       "      <th>Dest</th>\n",
       "      <th>Distance</th>\n",
       "      <th>Route</th>\n",
       "    </tr>\n",
       "  </thead>\n",
       "  <tbody>\n",
       "    <tr>\n",
       "      <th>0</th>\n",
       "      <td>10</td>\n",
       "      <td>13</td>\n",
       "      <td>6</td>\n",
       "      <td>1934</td>\n",
       "      <td>1</td>\n",
       "      <td>19</td>\n",
       "      <td>82</td>\n",
       "      <td>732</td>\n",
       "      <td>171</td>\n",
       "    </tr>\n",
       "    <tr>\n",
       "      <th>1</th>\n",
       "      <td>6</td>\n",
       "      <td>12</td>\n",
       "      <td>2</td>\n",
       "      <td>1548</td>\n",
       "      <td>19</td>\n",
       "      <td>226</td>\n",
       "      <td>180</td>\n",
       "      <td>834</td>\n",
       "      <td>3986</td>\n",
       "    </tr>\n",
       "    <tr>\n",
       "      <th>2</th>\n",
       "      <td>11</td>\n",
       "      <td>11</td>\n",
       "      <td>4</td>\n",
       "      <td>1422</td>\n",
       "      <td>21</td>\n",
       "      <td>239</td>\n",
       "      <td>62</td>\n",
       "      <td>416</td>\n",
       "      <td>4091</td>\n",
       "    </tr>\n",
       "    <tr>\n",
       "      <th>3</th>\n",
       "      <td>2</td>\n",
       "      <td>17</td>\n",
       "      <td>5</td>\n",
       "      <td>1015</td>\n",
       "      <td>16</td>\n",
       "      <td>81</td>\n",
       "      <td>184</td>\n",
       "      <td>872</td>\n",
       "      <td>1304</td>\n",
       "    </tr>\n",
       "    <tr>\n",
       "      <th>4</th>\n",
       "      <td>1</td>\n",
       "      <td>28</td>\n",
       "      <td>5</td>\n",
       "      <td>1828</td>\n",
       "      <td>20</td>\n",
       "      <td>182</td>\n",
       "      <td>210</td>\n",
       "      <td>423</td>\n",
       "      <td>2979</td>\n",
       "    </tr>\n",
       "  </tbody>\n",
       "</table>\n",
       "</div>"
      ],
      "text/plain": [
       "   Month  DayofMonth  DayOfWeek  DepTime  UniqueCarrier  Origin  Dest  \\\n",
       "0     10          13          6     1934              1      19    82   \n",
       "1      6          12          2     1548             19     226   180   \n",
       "2     11          11          4     1422             21     239    62   \n",
       "3      2          17          5     1015             16      81   184   \n",
       "4      1          28          5     1828             20     182   210   \n",
       "\n",
       "   Distance  Route  \n",
       "0       732    171  \n",
       "1       834   3986  \n",
       "2       416   4091  \n",
       "3       872   1304  \n",
       "4       423   2979  "
      ]
     },
     "execution_count": 7,
     "metadata": {},
     "output_type": "execute_result"
    }
   ],
   "source": [
    "X_train.head()"
   ]
  },
  {
   "cell_type": "markdown",
   "metadata": {},
   "source": [
    "Разделим данные на обучающую и отложенную выборку в соотношение 7:3. Инициализируем соответствующие объекты DMatrix dtrain и dtest."
   ]
  },
  {
   "cell_type": "code",
   "execution_count": 9,
   "metadata": {
    "collapsed": true
   },
   "outputs": [],
   "source": [
    "X_train_part, X_valid, y_train_part, y_valid = train_test_split(X_train, y_train,\n",
    "                                                    test_size=0.3, stratify=y_train, random_state=17)\n",
    "dtrain = xgb.DMatrix(X_train_part, y_train_part)\n",
    "dvalid = xgb.DMatrix(X_valid, y_valid)"
   ]
  },
  {
   "cell_type": "markdown",
   "metadata": {},
   "source": [
    "### Обучение модели"
   ]
  },
  {
   "cell_type": "markdown",
   "metadata": {},
   "source": [
    "**Обучим всего 50 деревьев решений глубины 3.**"
   ]
  },
  {
   "cell_type": "code",
   "execution_count": 14,
   "metadata": {
    "collapsed": true
   },
   "outputs": [],
   "source": [
    "params = {\n",
    "    'objective':'binary:logistic',\n",
    "    'eval_metric':'auc',\n",
    "    'max_depth':3,\n",
    "    'silent':1,\n",
    "    'eta':0.5\n",
    "}\n",
    "\n",
    "num_rounds = 170"
   ]
  },
  {
   "cell_type": "code",
   "execution_count": 15,
   "metadata": {},
   "outputs": [
    {
     "name": "stdout",
     "output_type": "stream",
     "text": [
      "[0]\tvalid-auc:0.691823\ttrain-auc:0.683212\n",
      "[1]\tvalid-auc:0.698806\ttrain-auc:0.68987\n",
      "[2]\tvalid-auc:0.701627\ttrain-auc:0.692678\n",
      "[3]\tvalid-auc:0.703601\ttrain-auc:0.694936\n",
      "[4]\tvalid-auc:0.70485\ttrain-auc:0.695982\n",
      "[5]\tvalid-auc:0.707411\ttrain-auc:0.698974\n",
      "[6]\tvalid-auc:0.710634\ttrain-auc:0.701189\n",
      "[7]\tvalid-auc:0.711368\ttrain-auc:0.702256\n",
      "[8]\tvalid-auc:0.714092\ttrain-auc:0.705936\n",
      "[9]\tvalid-auc:0.715956\ttrain-auc:0.708154\n",
      "[10]\tvalid-auc:0.717125\ttrain-auc:0.709959\n",
      "[11]\tvalid-auc:0.720537\ttrain-auc:0.713267\n",
      "[12]\tvalid-auc:0.721253\ttrain-auc:0.714274\n",
      "[13]\tvalid-auc:0.723677\ttrain-auc:0.71621\n",
      "[14]\tvalid-auc:0.724892\ttrain-auc:0.717283\n",
      "[15]\tvalid-auc:0.724798\ttrain-auc:0.718081\n",
      "[16]\tvalid-auc:0.726006\ttrain-auc:0.719756\n",
      "[17]\tvalid-auc:0.726264\ttrain-auc:0.720553\n",
      "[18]\tvalid-auc:0.726224\ttrain-auc:0.721233\n",
      "[19]\tvalid-auc:0.726519\ttrain-auc:0.72211\n",
      "[20]\tvalid-auc:0.727595\ttrain-auc:0.723435\n",
      "[21]\tvalid-auc:0.728027\ttrain-auc:0.72376\n",
      "[22]\tvalid-auc:0.728245\ttrain-auc:0.724561\n",
      "[23]\tvalid-auc:0.728355\ttrain-auc:0.724855\n",
      "[24]\tvalid-auc:0.728377\ttrain-auc:0.725604\n",
      "[25]\tvalid-auc:0.729441\ttrain-auc:0.727131\n",
      "[26]\tvalid-auc:0.729999\ttrain-auc:0.727933\n",
      "[27]\tvalid-auc:0.730255\ttrain-auc:0.728845\n",
      "[28]\tvalid-auc:0.730336\ttrain-auc:0.729185\n",
      "[29]\tvalid-auc:0.730597\ttrain-auc:0.729921\n",
      "[30]\tvalid-auc:0.730903\ttrain-auc:0.730753\n",
      "[31]\tvalid-auc:0.730919\ttrain-auc:0.731326\n",
      "[32]\tvalid-auc:0.731296\ttrain-auc:0.732133\n",
      "[33]\tvalid-auc:0.731654\ttrain-auc:0.732627\n",
      "[34]\tvalid-auc:0.731748\ttrain-auc:0.732752\n",
      "[35]\tvalid-auc:0.732782\ttrain-auc:0.733839\n",
      "[36]\tvalid-auc:0.732705\ttrain-auc:0.734164\n",
      "[37]\tvalid-auc:0.732751\ttrain-auc:0.734542\n",
      "[38]\tvalid-auc:0.732658\ttrain-auc:0.734795\n",
      "[39]\tvalid-auc:0.732816\ttrain-auc:0.73509\n",
      "[40]\tvalid-auc:0.733128\ttrain-auc:0.735791\n",
      "[41]\tvalid-auc:0.733213\ttrain-auc:0.735961\n",
      "[42]\tvalid-auc:0.733421\ttrain-auc:0.736236\n",
      "[43]\tvalid-auc:0.734152\ttrain-auc:0.736827\n",
      "[44]\tvalid-auc:0.734729\ttrain-auc:0.737366\n",
      "[45]\tvalid-auc:0.734797\ttrain-auc:0.737482\n",
      "[46]\tvalid-auc:0.735013\ttrain-auc:0.737875\n",
      "[47]\tvalid-auc:0.735341\ttrain-auc:0.738419\n",
      "[48]\tvalid-auc:0.735476\ttrain-auc:0.738835\n",
      "[49]\tvalid-auc:0.736038\ttrain-auc:0.739592\n",
      "[50]\tvalid-auc:0.736501\ttrain-auc:0.740109\n",
      "[51]\tvalid-auc:0.737035\ttrain-auc:0.74094\n",
      "[52]\tvalid-auc:0.737057\ttrain-auc:0.741391\n",
      "[53]\tvalid-auc:0.73703\ttrain-auc:0.741703\n",
      "[54]\tvalid-auc:0.736884\ttrain-auc:0.742006\n",
      "[55]\tvalid-auc:0.737043\ttrain-auc:0.742471\n",
      "[56]\tvalid-auc:0.736952\ttrain-auc:0.74314\n",
      "[57]\tvalid-auc:0.736923\ttrain-auc:0.743208\n",
      "[58]\tvalid-auc:0.736516\ttrain-auc:0.743576\n",
      "[59]\tvalid-auc:0.736741\ttrain-auc:0.743783\n",
      "[60]\tvalid-auc:0.736727\ttrain-auc:0.744317\n",
      "[61]\tvalid-auc:0.737382\ttrain-auc:0.745306\n",
      "[62]\tvalid-auc:0.737813\ttrain-auc:0.745776\n",
      "[63]\tvalid-auc:0.737835\ttrain-auc:0.746476\n",
      "[64]\tvalid-auc:0.738044\ttrain-auc:0.746998\n",
      "[65]\tvalid-auc:0.738055\ttrain-auc:0.747046\n",
      "[66]\tvalid-auc:0.738069\ttrain-auc:0.747461\n",
      "[67]\tvalid-auc:0.738001\ttrain-auc:0.747663\n",
      "[68]\tvalid-auc:0.738068\ttrain-auc:0.747845\n",
      "[69]\tvalid-auc:0.737957\ttrain-auc:0.747933\n",
      "[70]\tvalid-auc:0.737905\ttrain-auc:0.748263\n",
      "[71]\tvalid-auc:0.737909\ttrain-auc:0.748336\n",
      "[72]\tvalid-auc:0.738064\ttrain-auc:0.748694\n",
      "[73]\tvalid-auc:0.738359\ttrain-auc:0.749134\n",
      "[74]\tvalid-auc:0.738436\ttrain-auc:0.749378\n",
      "[75]\tvalid-auc:0.738485\ttrain-auc:0.74944\n",
      "[76]\tvalid-auc:0.738288\ttrain-auc:0.749874\n",
      "[77]\tvalid-auc:0.738158\ttrain-auc:0.750009\n",
      "[78]\tvalid-auc:0.738085\ttrain-auc:0.750372\n",
      "[79]\tvalid-auc:0.738798\ttrain-auc:0.750996\n",
      "[80]\tvalid-auc:0.738941\ttrain-auc:0.751205\n",
      "[81]\tvalid-auc:0.739114\ttrain-auc:0.751469\n",
      "[82]\tvalid-auc:0.739411\ttrain-auc:0.751956\n",
      "[83]\tvalid-auc:0.739288\ttrain-auc:0.752202\n",
      "[84]\tvalid-auc:0.739255\ttrain-auc:0.752571\n",
      "[85]\tvalid-auc:0.739457\ttrain-auc:0.753176\n",
      "[86]\tvalid-auc:0.739477\ttrain-auc:0.753553\n",
      "[87]\tvalid-auc:0.739695\ttrain-auc:0.753853\n",
      "[88]\tvalid-auc:0.739607\ttrain-auc:0.75414\n",
      "[89]\tvalid-auc:0.739388\ttrain-auc:0.754407\n",
      "[90]\tvalid-auc:0.739993\ttrain-auc:0.754836\n",
      "[91]\tvalid-auc:0.739512\ttrain-auc:0.755241\n",
      "[92]\tvalid-auc:0.739572\ttrain-auc:0.755513\n",
      "[93]\tvalid-auc:0.739745\ttrain-auc:0.756093\n",
      "[94]\tvalid-auc:0.740143\ttrain-auc:0.756353\n",
      "[95]\tvalid-auc:0.74028\ttrain-auc:0.756981\n",
      "[96]\tvalid-auc:0.740348\ttrain-auc:0.757342\n",
      "[97]\tvalid-auc:0.740197\ttrain-auc:0.757869\n",
      "[98]\tvalid-auc:0.740365\ttrain-auc:0.758145\n",
      "[99]\tvalid-auc:0.740455\ttrain-auc:0.758462\n",
      "[100]\tvalid-auc:0.740266\ttrain-auc:0.758867\n",
      "[101]\tvalid-auc:0.740178\ttrain-auc:0.759139\n",
      "[102]\tvalid-auc:0.740421\ttrain-auc:0.759298\n",
      "[103]\tvalid-auc:0.740532\ttrain-auc:0.75962\n",
      "[104]\tvalid-auc:0.740381\ttrain-auc:0.75994\n",
      "[105]\tvalid-auc:0.740362\ttrain-auc:0.760252\n",
      "[106]\tvalid-auc:0.740345\ttrain-auc:0.760609\n",
      "[107]\tvalid-auc:0.740221\ttrain-auc:0.760838\n",
      "[108]\tvalid-auc:0.740229\ttrain-auc:0.76094\n",
      "[109]\tvalid-auc:0.740311\ttrain-auc:0.761018\n",
      "[110]\tvalid-auc:0.740223\ttrain-auc:0.761232\n",
      "[111]\tvalid-auc:0.740209\ttrain-auc:0.761415\n",
      "[112]\tvalid-auc:0.740252\ttrain-auc:0.761481\n",
      "[113]\tvalid-auc:0.740377\ttrain-auc:0.761687\n",
      "[114]\tvalid-auc:0.740426\ttrain-auc:0.761665\n",
      "[115]\tvalid-auc:0.740332\ttrain-auc:0.761804\n",
      "[116]\tvalid-auc:0.740304\ttrain-auc:0.762195\n",
      "[117]\tvalid-auc:0.740373\ttrain-auc:0.762407\n",
      "[118]\tvalid-auc:0.740393\ttrain-auc:0.762827\n",
      "[119]\tvalid-auc:0.740412\ttrain-auc:0.762958\n",
      "[120]\tvalid-auc:0.740444\ttrain-auc:0.763019\n",
      "[121]\tvalid-auc:0.740558\ttrain-auc:0.763247\n",
      "[122]\tvalid-auc:0.740662\ttrain-auc:0.763297\n",
      "[123]\tvalid-auc:0.740861\ttrain-auc:0.763639\n",
      "[124]\tvalid-auc:0.740609\ttrain-auc:0.76399\n",
      "[125]\tvalid-auc:0.740886\ttrain-auc:0.764308\n",
      "[126]\tvalid-auc:0.741138\ttrain-auc:0.764471\n",
      "[127]\tvalid-auc:0.74115\ttrain-auc:0.764682\n",
      "[128]\tvalid-auc:0.741205\ttrain-auc:0.764783\n",
      "[129]\tvalid-auc:0.741117\ttrain-auc:0.764958\n",
      "[130]\tvalid-auc:0.741124\ttrain-auc:0.765015\n",
      "[131]\tvalid-auc:0.740987\ttrain-auc:0.76553\n",
      "[132]\tvalid-auc:0.741\ttrain-auc:0.765875\n",
      "[133]\tvalid-auc:0.741148\ttrain-auc:0.766313\n",
      "[134]\tvalid-auc:0.741205\ttrain-auc:0.766636\n",
      "[135]\tvalid-auc:0.741437\ttrain-auc:0.767078\n",
      "[136]\tvalid-auc:0.7416\ttrain-auc:0.76737\n",
      "[137]\tvalid-auc:0.741804\ttrain-auc:0.767595\n",
      "[138]\tvalid-auc:0.741708\ttrain-auc:0.767868\n",
      "[139]\tvalid-auc:0.741846\ttrain-auc:0.768078\n",
      "[140]\tvalid-auc:0.741769\ttrain-auc:0.76859\n",
      "[141]\tvalid-auc:0.741837\ttrain-auc:0.768709\n",
      "[142]\tvalid-auc:0.741834\ttrain-auc:0.768799\n",
      "[143]\tvalid-auc:0.741955\ttrain-auc:0.769134\n",
      "[144]\tvalid-auc:0.741786\ttrain-auc:0.769398\n",
      "[145]\tvalid-auc:0.741763\ttrain-auc:0.769649\n",
      "[146]\tvalid-auc:0.741767\ttrain-auc:0.769833\n",
      "[147]\tvalid-auc:0.741625\ttrain-auc:0.770076\n",
      "[148]\tvalid-auc:0.741646\ttrain-auc:0.770174\n",
      "[149]\tvalid-auc:0.741623\ttrain-auc:0.770507\n",
      "[150]\tvalid-auc:0.74175\ttrain-auc:0.77073\n",
      "[151]\tvalid-auc:0.741997\ttrain-auc:0.770944\n",
      "[152]\tvalid-auc:0.741973\ttrain-auc:0.771296\n",
      "[153]\tvalid-auc:0.742006\ttrain-auc:0.771569\n",
      "[154]\tvalid-auc:0.741995\ttrain-auc:0.77188\n",
      "[155]\tvalid-auc:0.742024\ttrain-auc:0.772187\n",
      "[156]\tvalid-auc:0.741917\ttrain-auc:0.772483\n",
      "[157]\tvalid-auc:0.741986\ttrain-auc:0.77277\n",
      "[158]\tvalid-auc:0.7419\ttrain-auc:0.773167\n",
      "[159]\tvalid-auc:0.742155\ttrain-auc:0.773578\n",
      "[160]\tvalid-auc:0.742064\ttrain-auc:0.773784\n",
      "[161]\tvalid-auc:0.742057\ttrain-auc:0.773789\n",
      "[162]\tvalid-auc:0.741738\ttrain-auc:0.774189\n",
      "[163]\tvalid-auc:0.741802\ttrain-auc:0.774451\n",
      "[164]\tvalid-auc:0.741954\ttrain-auc:0.774598\n",
      "[165]\tvalid-auc:0.74187\ttrain-auc:0.774741\n",
      "[166]\tvalid-auc:0.741996\ttrain-auc:0.774973\n",
      "[167]\tvalid-auc:0.74213\ttrain-auc:0.775206\n",
      "[168]\tvalid-auc:0.74213\ttrain-auc:0.775345\n",
      "[169]\tvalid-auc:0.742227\ttrain-auc:0.775512\n"
     ]
    }
   ],
   "source": [
    "watchlist  = [(dvalid,'valid'), (dtrain,'train')] # native interface only\n",
    "xgb_model = xgb.train(params, dtrain, num_rounds, watchlist)"
   ]
  },
  {
   "cell_type": "markdown",
   "metadata": {},
   "source": [
    "### Важность признаков"
   ]
  },
  {
   "cell_type": "markdown",
   "metadata": {},
   "source": [
    "**F score (имхо - от \"feature\") при оценке важности признаков в Xgboost (не путать с F1 score как метрики качества классификации) вычисляется на основе того, как часто разбиение делалось по данному признаку.**"
   ]
  },
  {
   "cell_type": "code",
   "execution_count": 17,
   "metadata": {},
   "outputs": [
    {
     "data": {
      "image/png": "[encoded data removed]",
      "text/plain": [
       "<matplotlib.figure.Figure at 0x216d4c3edd8>"
      ]
     },
     "metadata": {},
     "output_type": "display_data"
    }
   ],
   "source": [
    "xgb.plot_importance(xgb_model);"
   ]
  },
  {
   "cell_type": "markdown",
   "metadata": {},
   "source": [
    "**в виде словаря или DataFrame:**"
   ]
  },
  {
   "cell_type": "code",
   "execution_count": 18,
   "metadata": {},
   "outputs": [
    {
     "data": {
      "text/plain": [
       "{'DayOfWeek': 57,\n",
       " 'DayofMonth': 102,\n",
       " 'DepTime': 305,\n",
       " 'Dest': 118,\n",
       " 'Distance': 167,\n",
       " 'Month': 82,\n",
       " 'Origin': 38,\n",
       " 'Route': 185,\n",
       " 'UniqueCarrier': 95}"
      ]
     },
     "execution_count": 18,
     "metadata": {},
     "output_type": "execute_result"
    }
   ],
   "source": [
    "importances = xgb_model.get_fscore()\n",
    "importances"
   ]
  },
  {
   "cell_type": "code",
   "execution_count": 19,
   "metadata": {},
   "outputs": [
    {
     "data": {
      "image/png": "[encoded data removed]",
      "text/plain": [
       "<matplotlib.figure.Figure at 0x216d6225780>"
      ]
     },
     "metadata": {},
     "output_type": "display_data"
    }
   ],
   "source": [
    "# create df\n",
    "importance_df = pd.DataFrame({\n",
    "        'Splits': list(importances.values()),\n",
    "        'Feature': list(importances.keys())\n",
    "    })\n",
    "importance_df.sort_values(by='Splits', inplace=True)\n",
    "importance_df.plot(kind='barh', x='Feature', figsize=(8,6), color='orange');"
   ]
  }
 ],
 "metadata": {
  "kernelspec": {
   "display_name": "Python 3",
   "language": "python",
   "name": "python3"
  },
  "language_info": {
   "codemirror_mode": {
    "name": "ipython",
    "version": 3
   },
   "file_extension": ".py",
   "mimetype": "text/x-python",
   "name": "python",
   "nbconvert_exporter": "python",
   "pygments_lexer": "ipython3",
   "version": "3.6.1"
  }
 },
 "nbformat": 4,
 "nbformat_minor": 2
}
